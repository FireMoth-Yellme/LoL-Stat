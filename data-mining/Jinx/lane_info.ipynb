{
 "cells": [
  {
   "cell_type": "code",
   "execution_count": 2,
   "metadata": {},
   "outputs": [],
   "source": [
    "import pandas as pd\n",
    "import numpy as np"
   ]
  },
  {
   "cell_type": "code",
   "execution_count": 3,
   "metadata": {},
   "outputs": [],
   "source": [
    "summoner_name = \"쪼렙이다말로하자\""
   ]
  },
  {
   "cell_type": "code",
   "execution_count": 4,
   "metadata": {},
   "outputs": [
    {
     "data": {
      "text/plain": [
       "'data/쪼렙이다말로하자/participants.json'"
      ]
     },
     "execution_count": 4,
     "metadata": {},
     "output_type": "execute_result"
    }
   ],
   "source": [
    "\"data/{}/participants.json\".format(summoner_name)"
   ]
  },
  {
   "cell_type": "code",
   "execution_count": 46,
   "metadata": {},
   "outputs": [],
   "source": [
    "participants = pd.read_json(\"data/{}/participants.json\".format(summoner_name))\n",
    "teams = pd.read_json(\"data/{}/teams.json\".format(summoner_name))\n",
    "info = pd.read_csv(\"data/{}/info.csv\".format(summoner_name))"
   ]
  },
  {
   "cell_type": "code",
   "execution_count": 50,
   "metadata": {},
   "outputs": [
    {
     "name": "stdout",
     "output_type": "stream",
     "text": [
      "{'lane': 'TOP', 'championId': 150, 'championName': 'Gnar', 'win': True, 'teamId': 100}\n",
      "{'lane': 'JUNGLE', 'championId': 104, 'championName': 'Graves', 'win': True, 'teamId': 100}\n",
      "{'lane': 'MIDDLE', 'championId': 127, 'championName': 'Lissandra', 'win': True, 'teamId': 100}\n",
      "{'lane': 'BOTTOM', 'championId': 236, 'championName': 'Lucian', 'win': True, 'teamId': 100}\n",
      "{'lane': 'UTILITY', 'championId': 89, 'championName': 'Leona', 'win': True, 'teamId': 100}\n",
      "{'lane': 'TOP', 'championId': 122, 'championName': 'Darius', 'win': False, 'teamId': 200}\n",
      "{'lane': 'JUNGLE', 'championId': 64, 'championName': 'LeeSin', 'win': False, 'teamId': 200}\n",
      "{'lane': 'MIDDLE', 'championId': 7, 'championName': 'Leblanc', 'win': False, 'teamId': 200}\n",
      "{'lane': 'BOTTOM', 'championId': 51, 'championName': 'Caitlyn', 'win': False, 'teamId': 200}\n",
      "{'lane': 'UTILITY', 'championId': 117, 'championName': 'Lulu', 'win': False, 'teamId': 200}\n"
     ]
    }
   ],
   "source": [
    "champions = participants.copy()\n",
    "champions = champions.apply(lambda row: row.map(lambda col: {\n",
    "    \"lane\" : col[\"individualPosition\"],\n",
    "    \"championId\" : col[\"championId\"],\n",
    "    \"championName\" : col[\"championName\"],\n",
    "    \"win\" : col[\"win\"],\n",
    "    \"teamId\" : col[\"teamId\"]\n",
    "}))\n",
    "\n",
    "for _info in champions.iloc[1,]:\n",
    "    print(_info)"
   ]
  },
  {
   "cell_type": "code",
   "execution_count": 51,
   "metadata": {},
   "outputs": [],
   "source": [
    "df = pd.DataFrame()\n",
    "res = []\n",
    "for i in range(len(champions)):\n",
    "    col = []\n",
    "    win = 100 if champions.iloc[i,0][\"win\"] else 200\n",
    "    for j in range(10):\n",
    "        del champions.iloc[i,j]['win']\n",
    "        col.append(champions.iloc[i,j])\n",
    "    col.append({\"win\":win})\n",
    "    res.append(col)"
   ]
  },
  {
   "cell_type": "code",
   "execution_count": 54,
   "metadata": {},
   "outputs": [],
   "source": [
    "df = pd.json_normalize(res)"
   ]
  },
  {
   "cell_type": "code",
   "execution_count": null,
   "metadata": {},
   "outputs": [],
   "source": []
  }
 ],
 "metadata": {
  "interpreter": {
   "hash": "31f2aee4e71d21fbe5cf8b01ff0e069b9275f58929596ceb00d14d90e3e16cd6"
  },
  "kernelspec": {
   "display_name": "Python 3.9.5 64-bit",
   "name": "python3"
  },
  "language_info": {
   "codemirror_mode": {
    "name": "ipython",
    "version": 3
   },
   "file_extension": ".py",
   "mimetype": "text/x-python",
   "name": "python",
   "nbconvert_exporter": "python",
   "pygments_lexer": "ipython3",
   "version": "3.9.5"
  },
  "orig_nbformat": 4
 },
 "nbformat": 4,
 "nbformat_minor": 2
}
