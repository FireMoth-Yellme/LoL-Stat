{
 "cells": [
  {
   "cell_type": "code",
   "execution_count": 39,
   "metadata": {},
   "outputs": [],
   "source": [
    "import pandas as pd\n",
    "import numpy as np"
   ]
  },
  {
   "cell_type": "code",
   "execution_count": 40,
   "metadata": {},
   "outputs": [],
   "source": [
    "summoner_name = \"쪼렙이다말로하자\""
   ]
  },
  {
   "cell_type": "code",
   "execution_count": 41,
   "metadata": {},
   "outputs": [
    {
     "data": {
      "text/html": [
       "<div>\n",
       "<style scoped>\n",
       "    .dataframe tbody tr th:only-of-type {\n",
       "        vertical-align: middle;\n",
       "    }\n",
       "\n",
       "    .dataframe tbody tr th {\n",
       "        vertical-align: top;\n",
       "    }\n",
       "\n",
       "    .dataframe thead th {\n",
       "        text-align: right;\n",
       "    }\n",
       "</style>\n",
       "<table border=\"1\" class=\"dataframe\">\n",
       "  <thead>\n",
       "    <tr style=\"text-align: right;\">\n",
       "      <th></th>\n",
       "      <th>is_invade</th>\n",
       "      <th>invade_timestamp</th>\n",
       "      <th>invade_kill_blue</th>\n",
       "      <th>invade_kill_red</th>\n",
       "      <th>invade_win_team</th>\n",
       "      <th>total_gold_blue_3_min</th>\n",
       "      <th>total_gold_red_3_min</th>\n",
       "      <th>gold_gap</th>\n",
       "      <th>gameMode</th>\n",
       "    </tr>\n",
       "  </thead>\n",
       "  <tbody>\n",
       "    <tr>\n",
       "      <th>0</th>\n",
       "      <td>False</td>\n",
       "      <td>0</td>\n",
       "      <td>0</td>\n",
       "      <td>0</td>\n",
       "      <td>0</td>\n",
       "      <td>0</td>\n",
       "      <td>0</td>\n",
       "      <td>0</td>\n",
       "      <td>CLASSIC</td>\n",
       "    </tr>\n",
       "    <tr>\n",
       "      <th>1</th>\n",
       "      <td>False</td>\n",
       "      <td>0</td>\n",
       "      <td>0</td>\n",
       "      <td>0</td>\n",
       "      <td>0</td>\n",
       "      <td>0</td>\n",
       "      <td>0</td>\n",
       "      <td>0</td>\n",
       "      <td>CLASSIC</td>\n",
       "    </tr>\n",
       "    <tr>\n",
       "      <th>2</th>\n",
       "      <td>True</td>\n",
       "      <td>113544</td>\n",
       "      <td>0</td>\n",
       "      <td>1</td>\n",
       "      <td>200</td>\n",
       "      <td>4216</td>\n",
       "      <td>5094</td>\n",
       "      <td>-878</td>\n",
       "      <td>CLASSIC</td>\n",
       "    </tr>\n",
       "    <tr>\n",
       "      <th>3</th>\n",
       "      <td>False</td>\n",
       "      <td>0</td>\n",
       "      <td>0</td>\n",
       "      <td>0</td>\n",
       "      <td>0</td>\n",
       "      <td>0</td>\n",
       "      <td>0</td>\n",
       "      <td>0</td>\n",
       "      <td>CLASSIC</td>\n",
       "    </tr>\n",
       "    <tr>\n",
       "      <th>4</th>\n",
       "      <td>False</td>\n",
       "      <td>0</td>\n",
       "      <td>0</td>\n",
       "      <td>0</td>\n",
       "      <td>0</td>\n",
       "      <td>0</td>\n",
       "      <td>0</td>\n",
       "      <td>0</td>\n",
       "      <td>CLASSIC</td>\n",
       "    </tr>\n",
       "    <tr>\n",
       "      <th>...</th>\n",
       "      <td>...</td>\n",
       "      <td>...</td>\n",
       "      <td>...</td>\n",
       "      <td>...</td>\n",
       "      <td>...</td>\n",
       "      <td>...</td>\n",
       "      <td>...</td>\n",
       "      <td>...</td>\n",
       "      <td>...</td>\n",
       "    </tr>\n",
       "    <tr>\n",
       "      <th>788</th>\n",
       "      <td>True</td>\n",
       "      <td>57358</td>\n",
       "      <td>2</td>\n",
       "      <td>0</td>\n",
       "      <td>100</td>\n",
       "      <td>5395</td>\n",
       "      <td>5209</td>\n",
       "      <td>186</td>\n",
       "      <td>CLASSIC</td>\n",
       "    </tr>\n",
       "    <tr>\n",
       "      <th>789</th>\n",
       "      <td>False</td>\n",
       "      <td>0</td>\n",
       "      <td>0</td>\n",
       "      <td>0</td>\n",
       "      <td>0</td>\n",
       "      <td>0</td>\n",
       "      <td>0</td>\n",
       "      <td>0</td>\n",
       "      <td>CLASSIC</td>\n",
       "    </tr>\n",
       "    <tr>\n",
       "      <th>790</th>\n",
       "      <td>True</td>\n",
       "      <td>69245</td>\n",
       "      <td>1</td>\n",
       "      <td>0</td>\n",
       "      <td>100</td>\n",
       "      <td>4634</td>\n",
       "      <td>5270</td>\n",
       "      <td>-636</td>\n",
       "      <td>CLASSIC</td>\n",
       "    </tr>\n",
       "    <tr>\n",
       "      <th>791</th>\n",
       "      <td>False</td>\n",
       "      <td>0</td>\n",
       "      <td>0</td>\n",
       "      <td>0</td>\n",
       "      <td>0</td>\n",
       "      <td>0</td>\n",
       "      <td>0</td>\n",
       "      <td>0</td>\n",
       "      <td>CLASSIC</td>\n",
       "    </tr>\n",
       "    <tr>\n",
       "      <th>792</th>\n",
       "      <td>True</td>\n",
       "      <td>116518</td>\n",
       "      <td>0</td>\n",
       "      <td>1</td>\n",
       "      <td>100</td>\n",
       "      <td>5209</td>\n",
       "      <td>4319</td>\n",
       "      <td>890</td>\n",
       "      <td>CLASSIC</td>\n",
       "    </tr>\n",
       "  </tbody>\n",
       "</table>\n",
       "<p>793 rows × 9 columns</p>\n",
       "</div>"
      ],
      "text/plain": [
       "     is_invade  invade_timestamp  invade_kill_blue  invade_kill_red  \\\n",
       "0        False                 0                 0                0   \n",
       "1        False                 0                 0                0   \n",
       "2         True            113544                 0                1   \n",
       "3        False                 0                 0                0   \n",
       "4        False                 0                 0                0   \n",
       "..         ...               ...               ...              ...   \n",
       "788       True             57358                 2                0   \n",
       "789      False                 0                 0                0   \n",
       "790       True             69245                 1                0   \n",
       "791      False                 0                 0                0   \n",
       "792       True            116518                 0                1   \n",
       "\n",
       "     invade_win_team  total_gold_blue_3_min  total_gold_red_3_min  gold_gap  \\\n",
       "0                  0                      0                     0         0   \n",
       "1                  0                      0                     0         0   \n",
       "2                200                   4216                  5094      -878   \n",
       "3                  0                      0                     0         0   \n",
       "4                  0                      0                     0         0   \n",
       "..               ...                    ...                   ...       ...   \n",
       "788              100                   5395                  5209       186   \n",
       "789                0                      0                     0         0   \n",
       "790              100                   4634                  5270      -636   \n",
       "791                0                      0                     0         0   \n",
       "792              100                   5209                  4319       890   \n",
       "\n",
       "    gameMode  \n",
       "0    CLASSIC  \n",
       "1    CLASSIC  \n",
       "2    CLASSIC  \n",
       "3    CLASSIC  \n",
       "4    CLASSIC  \n",
       "..       ...  \n",
       "788  CLASSIC  \n",
       "789  CLASSIC  \n",
       "790  CLASSIC  \n",
       "791  CLASSIC  \n",
       "792  CLASSIC  \n",
       "\n",
       "[793 rows x 9 columns]"
      ]
     },
     "execution_count": 41,
     "metadata": {},
     "output_type": "execute_result"
    }
   ],
   "source": [
    "invade = pd.read_csv(\"data/{}/invade.csv\".format(summoner_name))\n",
    "invade"
   ]
  },
  {
   "cell_type": "code",
   "execution_count": 42,
   "metadata": {},
   "outputs": [
    {
     "data": {
      "text/html": [
       "<div>\n",
       "<style scoped>\n",
       "    .dataframe tbody tr th:only-of-type {\n",
       "        vertical-align: middle;\n",
       "    }\n",
       "\n",
       "    .dataframe tbody tr th {\n",
       "        vertical-align: top;\n",
       "    }\n",
       "\n",
       "    .dataframe thead th {\n",
       "        text-align: right;\n",
       "    }\n",
       "</style>\n",
       "<table border=\"1\" class=\"dataframe\">\n",
       "  <thead>\n",
       "    <tr style=\"text-align: right;\">\n",
       "      <th></th>\n",
       "      <th>0</th>\n",
       "      <th>1</th>\n",
       "      <th>2</th>\n",
       "      <th>3</th>\n",
       "      <th>4</th>\n",
       "      <th>5</th>\n",
       "      <th>6</th>\n",
       "      <th>7</th>\n",
       "    </tr>\n",
       "  </thead>\n",
       "  <tbody>\n",
       "    <tr>\n",
       "      <th>0</th>\n",
       "      <td>0</td>\n",
       "      <td>0</td>\n",
       "      <td>1</td>\n",
       "      <td>0</td>\n",
       "      <td>0</td>\n",
       "      <td>0</td>\n",
       "      <td>0</td>\n",
       "      <td>0</td>\n",
       "    </tr>\n",
       "    <tr>\n",
       "      <th>1</th>\n",
       "      <td>4</td>\n",
       "      <td>10</td>\n",
       "      <td>6</td>\n",
       "      <td>2</td>\n",
       "      <td>0</td>\n",
       "      <td>0</td>\n",
       "      <td>0</td>\n",
       "      <td>0</td>\n",
       "    </tr>\n",
       "    <tr>\n",
       "      <th>2</th>\n",
       "      <td>7</td>\n",
       "      <td>6</td>\n",
       "      <td>2</td>\n",
       "      <td>4</td>\n",
       "      <td>2</td>\n",
       "      <td>0</td>\n",
       "      <td>0</td>\n",
       "      <td>0</td>\n",
       "    </tr>\n",
       "    <tr>\n",
       "      <th>3</th>\n",
       "      <td>0</td>\n",
       "      <td>7</td>\n",
       "      <td>9</td>\n",
       "      <td>10</td>\n",
       "      <td>7</td>\n",
       "      <td>4</td>\n",
       "      <td>1</td>\n",
       "      <td>0</td>\n",
       "    </tr>\n",
       "    <tr>\n",
       "      <th>4</th>\n",
       "      <td>0</td>\n",
       "      <td>0</td>\n",
       "      <td>6</td>\n",
       "      <td>24</td>\n",
       "      <td>8</td>\n",
       "      <td>13</td>\n",
       "      <td>6</td>\n",
       "      <td>0</td>\n",
       "    </tr>\n",
       "    <tr>\n",
       "      <th>5</th>\n",
       "      <td>0</td>\n",
       "      <td>0</td>\n",
       "      <td>7</td>\n",
       "      <td>22</td>\n",
       "      <td>9</td>\n",
       "      <td>19</td>\n",
       "      <td>10</td>\n",
       "      <td>2</td>\n",
       "    </tr>\n",
       "    <tr>\n",
       "      <th>6</th>\n",
       "      <td>0</td>\n",
       "      <td>0</td>\n",
       "      <td>0</td>\n",
       "      <td>10</td>\n",
       "      <td>15</td>\n",
       "      <td>13</td>\n",
       "      <td>30</td>\n",
       "      <td>0</td>\n",
       "    </tr>\n",
       "    <tr>\n",
       "      <th>7</th>\n",
       "      <td>0</td>\n",
       "      <td>0</td>\n",
       "      <td>0</td>\n",
       "      <td>4</td>\n",
       "      <td>3</td>\n",
       "      <td>21</td>\n",
       "      <td>10</td>\n",
       "      <td>0</td>\n",
       "    </tr>\n",
       "  </tbody>\n",
       "</table>\n",
       "</div>"
      ],
      "text/plain": [
       "   0   1  2   3   4   5   6  7\n",
       "0  0   0  1   0   0   0   0  0\n",
       "1  4  10  6   2   0   0   0  0\n",
       "2  7   6  2   4   2   0   0  0\n",
       "3  0   7  9  10   7   4   1  0\n",
       "4  0   0  6  24   8  13   6  0\n",
       "5  0   0  7  22   9  19  10  2\n",
       "6  0   0  0  10  15  13  30  0\n",
       "7  0   0  0   4   3  21  10  0"
      ]
     },
     "execution_count": 42,
     "metadata": {},
     "output_type": "execute_result"
    }
   ],
   "source": [
    "invade_position = pd.read_csv(\"data/{}/invade_position.csv\".format(summoner_name))\n",
    "invade_position"
   ]
  },
  {
   "cell_type": "code",
   "execution_count": 43,
   "metadata": {},
   "outputs": [
    {
     "data": {
      "text/html": [
       "<div>\n",
       "<style scoped>\n",
       "    .dataframe tbody tr th:only-of-type {\n",
       "        vertical-align: middle;\n",
       "    }\n",
       "\n",
       "    .dataframe tbody tr th {\n",
       "        vertical-align: top;\n",
       "    }\n",
       "\n",
       "    .dataframe thead th {\n",
       "        text-align: right;\n",
       "    }\n",
       "</style>\n",
       "<table border=\"1\" class=\"dataframe\">\n",
       "  <thead>\n",
       "    <tr style=\"text-align: right;\">\n",
       "      <th></th>\n",
       "      <th>0</th>\n",
       "      <th>1</th>\n",
       "      <th>2</th>\n",
       "      <th>3</th>\n",
       "      <th>4</th>\n",
       "      <th>5</th>\n",
       "      <th>6</th>\n",
       "      <th>7</th>\n",
       "      <th>8</th>\n",
       "      <th>9</th>\n",
       "    </tr>\n",
       "  </thead>\n",
       "  <tbody>\n",
       "    <tr>\n",
       "      <th>0</th>\n",
       "      <td>{'assists': 5, 'baronKills': 0, 'bountyLevel':...</td>\n",
       "      <td>{'assists': 10, 'baronKills': 0, 'bountyLevel'...</td>\n",
       "      <td>{'assists': 7, 'baronKills': 0, 'bountyLevel':...</td>\n",
       "      <td>{'assists': 8, 'baronKills': 0, 'bountyLevel':...</td>\n",
       "      <td>{'assists': 10, 'baronKills': 0, 'bountyLevel'...</td>\n",
       "      <td>{'assists': 13, 'baronKills': 0, 'bountyLevel'...</td>\n",
       "      <td>{'assists': 14, 'baronKills': 2, 'bountyLevel'...</td>\n",
       "      <td>{'assists': 7, 'baronKills': 0, 'bountyLevel':...</td>\n",
       "      <td>{'assists': 7, 'baronKills': 0, 'bountyLevel':...</td>\n",
       "      <td>{'assists': 20, 'baronKills': 0, 'bountyLevel'...</td>\n",
       "    </tr>\n",
       "    <tr>\n",
       "      <th>1</th>\n",
       "      <td>{'assists': 5, 'baronKills': 0, 'bountyLevel':...</td>\n",
       "      <td>{'assists': 1, 'baronKills': 0, 'bountyLevel':...</td>\n",
       "      <td>{'assists': 1, 'baronKills': 0, 'bountyLevel':...</td>\n",
       "      <td>{'assists': 3, 'baronKills': 0, 'bountyLevel':...</td>\n",
       "      <td>{'assists': 4, 'baronKills': 0, 'bountyLevel':...</td>\n",
       "      <td>{'assists': 10, 'baronKills': 0, 'bountyLevel'...</td>\n",
       "      <td>{'assists': 9, 'baronKills': 0, 'bountyLevel':...</td>\n",
       "      <td>{'assists': 3, 'baronKills': 0, 'bountyLevel':...</td>\n",
       "      <td>{'assists': 5, 'baronKills': 0, 'bountyLevel':...</td>\n",
       "      <td>{'assists': 15, 'baronKills': 0, 'bountyLevel'...</td>\n",
       "    </tr>\n",
       "    <tr>\n",
       "      <th>2</th>\n",
       "      <td>{'assists': 6, 'baronKills': 0, 'bountyLevel':...</td>\n",
       "      <td>{'assists': 4, 'baronKills': 0, 'bountyLevel':...</td>\n",
       "      <td>{'assists': 11, 'baronKills': 0, 'bountyLevel'...</td>\n",
       "      <td>{'assists': 3, 'baronKills': 0, 'bountyLevel':...</td>\n",
       "      <td>{'assists': 7, 'baronKills': 0, 'bountyLevel':...</td>\n",
       "      <td>{'assists': 5, 'baronKills': 0, 'bountyLevel':...</td>\n",
       "      <td>{'assists': 5, 'baronKills': 1, 'bountyLevel':...</td>\n",
       "      <td>{'assists': 4, 'baronKills': 0, 'bountyLevel':...</td>\n",
       "      <td>{'assists': 2, 'baronKills': 0, 'bountyLevel':...</td>\n",
       "      <td>{'assists': 4, 'baronKills': 0, 'bountyLevel':...</td>\n",
       "    </tr>\n",
       "    <tr>\n",
       "      <th>3</th>\n",
       "      <td>{'assists': 10, 'baronKills': 0, 'bountyLevel'...</td>\n",
       "      <td>{'assists': 11, 'baronKills': 0, 'bountyLevel'...</td>\n",
       "      <td>{'assists': 13, 'baronKills': 0, 'bountyLevel'...</td>\n",
       "      <td>{'assists': 8, 'baronKills': 0, 'bountyLevel':...</td>\n",
       "      <td>{'assists': 14, 'baronKills': 0, 'bountyLevel'...</td>\n",
       "      <td>{'assists': 15, 'baronKills': 0, 'bountyLevel'...</td>\n",
       "      <td>{'assists': 12, 'baronKills': 1, 'bountyLevel'...</td>\n",
       "      <td>{'assists': 7, 'baronKills': 0, 'bountyLevel':...</td>\n",
       "      <td>{'assists': 9, 'baronKills': 1, 'bountyLevel':...</td>\n",
       "      <td>{'assists': 14, 'baronKills': 0, 'bountyLevel'...</td>\n",
       "    </tr>\n",
       "    <tr>\n",
       "      <th>4</th>\n",
       "      <td>{'assists': 6, 'baronKills': 0, 'bountyLevel':...</td>\n",
       "      <td>{'assists': 4, 'baronKills': 0, 'bountyLevel':...</td>\n",
       "      <td>{'assists': 2, 'baronKills': 0, 'bountyLevel':...</td>\n",
       "      <td>{'assists': 6, 'baronKills': 0, 'bountyLevel':...</td>\n",
       "      <td>{'assists': 14, 'baronKills': 0, 'bountyLevel'...</td>\n",
       "      <td>{'assists': 0, 'baronKills': 0, 'bountyLevel':...</td>\n",
       "      <td>{'assists': 0, 'baronKills': 0, 'bountyLevel':...</td>\n",
       "      <td>{'assists': 3, 'baronKills': 0, 'bountyLevel':...</td>\n",
       "      <td>{'assists': 0, 'baronKills': 0, 'bountyLevel':...</td>\n",
       "      <td>{'assists': 3, 'baronKills': 0, 'bountyLevel':...</td>\n",
       "    </tr>\n",
       "  </tbody>\n",
       "</table>\n",
       "</div>"
      ],
      "text/plain": [
       "                                                   0  \\\n",
       "0  {'assists': 5, 'baronKills': 0, 'bountyLevel':...   \n",
       "1  {'assists': 5, 'baronKills': 0, 'bountyLevel':...   \n",
       "2  {'assists': 6, 'baronKills': 0, 'bountyLevel':...   \n",
       "3  {'assists': 10, 'baronKills': 0, 'bountyLevel'...   \n",
       "4  {'assists': 6, 'baronKills': 0, 'bountyLevel':...   \n",
       "\n",
       "                                                   1  \\\n",
       "0  {'assists': 10, 'baronKills': 0, 'bountyLevel'...   \n",
       "1  {'assists': 1, 'baronKills': 0, 'bountyLevel':...   \n",
       "2  {'assists': 4, 'baronKills': 0, 'bountyLevel':...   \n",
       "3  {'assists': 11, 'baronKills': 0, 'bountyLevel'...   \n",
       "4  {'assists': 4, 'baronKills': 0, 'bountyLevel':...   \n",
       "\n",
       "                                                   2  \\\n",
       "0  {'assists': 7, 'baronKills': 0, 'bountyLevel':...   \n",
       "1  {'assists': 1, 'baronKills': 0, 'bountyLevel':...   \n",
       "2  {'assists': 11, 'baronKills': 0, 'bountyLevel'...   \n",
       "3  {'assists': 13, 'baronKills': 0, 'bountyLevel'...   \n",
       "4  {'assists': 2, 'baronKills': 0, 'bountyLevel':...   \n",
       "\n",
       "                                                   3  \\\n",
       "0  {'assists': 8, 'baronKills': 0, 'bountyLevel':...   \n",
       "1  {'assists': 3, 'baronKills': 0, 'bountyLevel':...   \n",
       "2  {'assists': 3, 'baronKills': 0, 'bountyLevel':...   \n",
       "3  {'assists': 8, 'baronKills': 0, 'bountyLevel':...   \n",
       "4  {'assists': 6, 'baronKills': 0, 'bountyLevel':...   \n",
       "\n",
       "                                                   4  \\\n",
       "0  {'assists': 10, 'baronKills': 0, 'bountyLevel'...   \n",
       "1  {'assists': 4, 'baronKills': 0, 'bountyLevel':...   \n",
       "2  {'assists': 7, 'baronKills': 0, 'bountyLevel':...   \n",
       "3  {'assists': 14, 'baronKills': 0, 'bountyLevel'...   \n",
       "4  {'assists': 14, 'baronKills': 0, 'bountyLevel'...   \n",
       "\n",
       "                                                   5  \\\n",
       "0  {'assists': 13, 'baronKills': 0, 'bountyLevel'...   \n",
       "1  {'assists': 10, 'baronKills': 0, 'bountyLevel'...   \n",
       "2  {'assists': 5, 'baronKills': 0, 'bountyLevel':...   \n",
       "3  {'assists': 15, 'baronKills': 0, 'bountyLevel'...   \n",
       "4  {'assists': 0, 'baronKills': 0, 'bountyLevel':...   \n",
       "\n",
       "                                                   6  \\\n",
       "0  {'assists': 14, 'baronKills': 2, 'bountyLevel'...   \n",
       "1  {'assists': 9, 'baronKills': 0, 'bountyLevel':...   \n",
       "2  {'assists': 5, 'baronKills': 1, 'bountyLevel':...   \n",
       "3  {'assists': 12, 'baronKills': 1, 'bountyLevel'...   \n",
       "4  {'assists': 0, 'baronKills': 0, 'bountyLevel':...   \n",
       "\n",
       "                                                   7  \\\n",
       "0  {'assists': 7, 'baronKills': 0, 'bountyLevel':...   \n",
       "1  {'assists': 3, 'baronKills': 0, 'bountyLevel':...   \n",
       "2  {'assists': 4, 'baronKills': 0, 'bountyLevel':...   \n",
       "3  {'assists': 7, 'baronKills': 0, 'bountyLevel':...   \n",
       "4  {'assists': 3, 'baronKills': 0, 'bountyLevel':...   \n",
       "\n",
       "                                                   8  \\\n",
       "0  {'assists': 7, 'baronKills': 0, 'bountyLevel':...   \n",
       "1  {'assists': 5, 'baronKills': 0, 'bountyLevel':...   \n",
       "2  {'assists': 2, 'baronKills': 0, 'bountyLevel':...   \n",
       "3  {'assists': 9, 'baronKills': 1, 'bountyLevel':...   \n",
       "4  {'assists': 0, 'baronKills': 0, 'bountyLevel':...   \n",
       "\n",
       "                                                   9  \n",
       "0  {'assists': 20, 'baronKills': 0, 'bountyLevel'...  \n",
       "1  {'assists': 15, 'baronKills': 0, 'bountyLevel'...  \n",
       "2  {'assists': 4, 'baronKills': 0, 'bountyLevel':...  \n",
       "3  {'assists': 14, 'baronKills': 0, 'bountyLevel'...  \n",
       "4  {'assists': 3, 'baronKills': 0, 'bountyLevel':...  "
      ]
     },
     "execution_count": 43,
     "metadata": {},
     "output_type": "execute_result"
    }
   ],
   "source": [
    "participants = pd.read_json(\"data/{}/participants.json\".format(summoner_name))\n",
    "participants.head()"
   ]
  },
  {
   "cell_type": "code",
   "execution_count": 44,
   "metadata": {},
   "outputs": [
    {
     "data": {
      "text/html": [
       "<div>\n",
       "<style scoped>\n",
       "    .dataframe tbody tr th:only-of-type {\n",
       "        vertical-align: middle;\n",
       "    }\n",
       "\n",
       "    .dataframe tbody tr th {\n",
       "        vertical-align: top;\n",
       "    }\n",
       "\n",
       "    .dataframe thead th {\n",
       "        text-align: right;\n",
       "    }\n",
       "</style>\n",
       "<table border=\"1\" class=\"dataframe\">\n",
       "  <thead>\n",
       "    <tr style=\"text-align: right;\">\n",
       "      <th></th>\n",
       "      <th>100</th>\n",
       "      <th>200</th>\n",
       "      <th>win</th>\n",
       "    </tr>\n",
       "  </thead>\n",
       "  <tbody>\n",
       "    <tr>\n",
       "      <th>0</th>\n",
       "      <td>{'bans': [{'championId': 412, 'pickTurn': 1}, ...</td>\n",
       "      <td>{'bans': [{'championId': 412, 'pickTurn': 6}, ...</td>\n",
       "      <td>200</td>\n",
       "    </tr>\n",
       "    <tr>\n",
       "      <th>1</th>\n",
       "      <td>{'bans': [{'championId': 76, 'pickTurn': 1}, {...</td>\n",
       "      <td>{'bans': [{'championId': 55, 'pickTurn': 6}, {...</td>\n",
       "      <td>200</td>\n",
       "    </tr>\n",
       "    <tr>\n",
       "      <th>2</th>\n",
       "      <td>{'bans': [{'championId': 114, 'pickTurn': 1}, ...</td>\n",
       "      <td>{'bans': [{'championId': 104, 'pickTurn': 6}, ...</td>\n",
       "      <td>200</td>\n",
       "    </tr>\n",
       "    <tr>\n",
       "      <th>3</th>\n",
       "      <td>{'bans': [{'championId': -1, 'pickTurn': 1}, {...</td>\n",
       "      <td>{'bans': [{'championId': 7, 'pickTurn': 6}, {'...</td>\n",
       "      <td>200</td>\n",
       "    </tr>\n",
       "    <tr>\n",
       "      <th>4</th>\n",
       "      <td>{'bans': [{'championId': 91, 'pickTurn': 1}, {...</td>\n",
       "      <td>{'bans': [{'championId': -1, 'pickTurn': 6}, {...</td>\n",
       "      <td>100</td>\n",
       "    </tr>\n",
       "  </tbody>\n",
       "</table>\n",
       "</div>"
      ],
      "text/plain": [
       "                                                 100  \\\n",
       "0  {'bans': [{'championId': 412, 'pickTurn': 1}, ...   \n",
       "1  {'bans': [{'championId': 76, 'pickTurn': 1}, {...   \n",
       "2  {'bans': [{'championId': 114, 'pickTurn': 1}, ...   \n",
       "3  {'bans': [{'championId': -1, 'pickTurn': 1}, {...   \n",
       "4  {'bans': [{'championId': 91, 'pickTurn': 1}, {...   \n",
       "\n",
       "                                                 200  win  \n",
       "0  {'bans': [{'championId': 412, 'pickTurn': 6}, ...  200  \n",
       "1  {'bans': [{'championId': 55, 'pickTurn': 6}, {...  200  \n",
       "2  {'bans': [{'championId': 104, 'pickTurn': 6}, ...  200  \n",
       "3  {'bans': [{'championId': 7, 'pickTurn': 6}, {'...  200  \n",
       "4  {'bans': [{'championId': -1, 'pickTurn': 6}, {...  100  "
      ]
     },
     "execution_count": 44,
     "metadata": {},
     "output_type": "execute_result"
    }
   ],
   "source": [
    "teams = pd.read_json(\"data/{}/teams.json\".format(summoner_name))\n",
    "teams.head()"
   ]
  },
  {
   "cell_type": "code",
   "execution_count": 45,
   "metadata": {},
   "outputs": [
    {
     "data": {
      "text/html": [
       "<div>\n",
       "<style scoped>\n",
       "    .dataframe tbody tr th:only-of-type {\n",
       "        vertical-align: middle;\n",
       "    }\n",
       "\n",
       "    .dataframe tbody tr th {\n",
       "        vertical-align: top;\n",
       "    }\n",
       "\n",
       "    .dataframe thead th {\n",
       "        text-align: right;\n",
       "    }\n",
       "</style>\n",
       "<table border=\"1\" class=\"dataframe\">\n",
       "  <thead>\n",
       "    <tr style=\"text-align: right;\">\n",
       "      <th></th>\n",
       "      <th>gameDuration</th>\n",
       "      <th>gameMode</th>\n",
       "      <th>gameType</th>\n",
       "      <th>gameVersion</th>\n",
       "      <th>mapId</th>\n",
       "      <th>index</th>\n",
       "      <th>team</th>\n",
       "    </tr>\n",
       "  </thead>\n",
       "  <tbody>\n",
       "    <tr>\n",
       "      <th>0</th>\n",
       "      <td>1865764</td>\n",
       "      <td>CLASSIC</td>\n",
       "      <td>MATCHED_GAME</td>\n",
       "      <td>11.19.398.9466</td>\n",
       "      <td>11</td>\n",
       "      <td>9</td>\n",
       "      <td>200</td>\n",
       "    </tr>\n",
       "    <tr>\n",
       "      <th>1</th>\n",
       "      <td>1261439</td>\n",
       "      <td>CLASSIC</td>\n",
       "      <td>MATCHED_GAME</td>\n",
       "      <td>11.19.398.9466</td>\n",
       "      <td>11</td>\n",
       "      <td>9</td>\n",
       "      <td>200</td>\n",
       "    </tr>\n",
       "    <tr>\n",
       "      <th>2</th>\n",
       "      <td>1583363</td>\n",
       "      <td>CLASSIC</td>\n",
       "      <td>MATCHED_GAME</td>\n",
       "      <td>11.19.398.9466</td>\n",
       "      <td>11</td>\n",
       "      <td>4</td>\n",
       "      <td>100</td>\n",
       "    </tr>\n",
       "    <tr>\n",
       "      <th>3</th>\n",
       "      <td>2304330</td>\n",
       "      <td>CLASSIC</td>\n",
       "      <td>MATCHED_GAME</td>\n",
       "      <td>11.19.398.9466</td>\n",
       "      <td>11</td>\n",
       "      <td>2</td>\n",
       "      <td>100</td>\n",
       "    </tr>\n",
       "    <tr>\n",
       "      <th>4</th>\n",
       "      <td>939701</td>\n",
       "      <td>CLASSIC</td>\n",
       "      <td>MATCHED_GAME</td>\n",
       "      <td>11.19.398.9466</td>\n",
       "      <td>11</td>\n",
       "      <td>7</td>\n",
       "      <td>200</td>\n",
       "    </tr>\n",
       "  </tbody>\n",
       "</table>\n",
       "</div>"
      ],
      "text/plain": [
       "   gameDuration gameMode      gameType     gameVersion  mapId  index  team\n",
       "0       1865764  CLASSIC  MATCHED_GAME  11.19.398.9466     11      9   200\n",
       "1       1261439  CLASSIC  MATCHED_GAME  11.19.398.9466     11      9   200\n",
       "2       1583363  CLASSIC  MATCHED_GAME  11.19.398.9466     11      4   100\n",
       "3       2304330  CLASSIC  MATCHED_GAME  11.19.398.9466     11      2   100\n",
       "4        939701  CLASSIC  MATCHED_GAME  11.19.398.9466     11      7   200"
      ]
     },
     "execution_count": 45,
     "metadata": {},
     "output_type": "execute_result"
    }
   ],
   "source": [
    "info = pd.read_csv(\"data/{}/info.csv\".format(summoner_name))\n",
    "info.head()"
   ]
  },
  {
   "cell_type": "code",
   "execution_count": 46,
   "metadata": {},
   "outputs": [
    {
     "data": {
      "text/plain": [
       "(183, 0.23076923076923078)"
      ]
     },
     "execution_count": 46,
     "metadata": {},
     "output_type": "execute_result"
    }
   ],
   "source": [
    "# 표본의 인베 횟수\n",
    "n_invade = sum(invade.is_invade==True)\n",
    "n_invade, n_invade / len(info)"
   ]
  },
  {
   "cell_type": "code",
   "execution_count": 47,
   "metadata": {},
   "outputs": [
    {
     "data": {
      "text/plain": [
       "(427, 0.5384615384615384)"
      ]
     },
     "execution_count": 47,
     "metadata": {},
     "output_type": "execute_result"
    }
   ],
   "source": [
    "# 표본의 승률 P(Y=1)\n",
    "n_win = sum(info.team == teams.win)\n",
    "n_win, n_win / len(info)"
   ]
  },
  {
   "cell_type": "code",
   "execution_count": 48,
   "metadata": {},
   "outputs": [
    {
     "name": "stdout",
     "output_type": "stream",
     "text": [
      "99 0.5409836065573771\n",
      "328 0.5377049180327869\n",
      "109 0.5956284153005464\n",
      "74 0.6788990825688074\n"
     ]
    }
   ],
   "source": [
    "# 인베를 갔을 때 승리할 확률 P(Y=1|X=1)\n",
    "n_match = len(info)\n",
    "n_win = 0\n",
    "for i in invade[invade.is_invade].index:\n",
    "    if invade.iloc[i][\"invade_win_team\"] == info.team[i]:\n",
    "        n_win += 1\n",
    "print(n_win, n_win / n_invade)\n",
    "\n",
    "# 인베를 가지 않았을 때 승리할 확률 P(Y=1|X=0)\n",
    "n_win = 0\n",
    "for i in invade[invade.is_invade == False].index:\n",
    "    if teams.win[i] == info.team[i]:    # invade를 가지 않았을 때 팀의 정보를 모름 in invade dataframe\n",
    "        n_win += 1\n",
    "print(n_win, n_win / (n_match - n_invade))\n",
    "\n",
    "# 인베를 갔을 때 본인의 팀이 이득을 볼 확률 P(Z=1|X=1)\n",
    "mask_blue_benefit = invade.invade_kill_blue > invade.invade_kill_red\n",
    "mask_red_benefit = invade.invade_kill_blue < invade.invade_kill_red\n",
    "invade_benefit = invade[(mask_blue_benefit & (info.team==100)) | (mask_red_benefit & (info.team==200))]\n",
    "n_benefit = len(invade_benefit)\n",
    "print(n_benefit, n_benefit / n_invade)\n",
    "\n",
    "# (인베를 갔을 때) 이득을 볼 경우 승리할 확률\n",
    "mask_blue_benefit = invade_benefit.invade_kill_blue > invade_benefit.invade_kill_red\n",
    "mask_red_benefit = invade_benefit.invade_kill_blue < invade_benefit.invade_kill_red\n",
    "invade_benefit_win = invade_benefit[(mask_blue_benefit & (invade_benefit.invade_win_team==100)) | (mask_red_benefit&(invade_benefit.invade_win_team==200))]\n",
    "n_benefit_win = len(invade_benefit_win)\n",
    "print(n_benefit_win, n_benefit_win/n_benefit)"
   ]
  },
  {
   "cell_type": "code",
   "execution_count": 49,
   "metadata": {},
   "outputs": [
    {
     "data": {
      "text/plain": [
       "array([ 89, 131, 116,  20, 113, 152, 105,  12,  61,  31, 158,  29,  43,\n",
       "       140, 178, 134, 147,  19,   6, 169, 167, 112,  41, 153, 148,  99,\n",
       "       129, 124,  48,  62])"
      ]
     },
     "execution_count": 49,
     "metadata": {},
     "output_type": "execute_result"
    }
   ],
   "source": [
    "np.random.choice(n_invade, size=30, replace=False)"
   ]
  },
  {
   "cell_type": "code",
   "execution_count": 50,
   "metadata": {},
   "outputs": [
    {
     "data": {
      "text/plain": [
       "Int64Index([  2,  11,  16,  17,  21,  25,  27,  30,  31,  34,\n",
       "            ...\n",
       "            742, 752, 762, 763, 766, 780, 784, 788, 790, 792],\n",
       "           dtype='int64', length=183)"
      ]
     },
     "execution_count": 50,
     "metadata": {},
     "output_type": "execute_result"
    }
   ],
   "source": [
    "invade[invade.is_invade==True].index"
   ]
  },
  {
   "cell_type": "markdown",
   "metadata": {},
   "source": [
    "# 표본평균 구하기\n",
    "\n",
    "중심극한정리를 따라 크기가 큰 표본평균의 분포는 근사적으로 정규분포를 따른다.\n",
    "\n",
    "이 때 크기는 30 이상일 경우 일반적으로 성립한다."
   ]
  },
  {
   "cell_type": "markdown",
   "metadata": {},
   "source": [
    "## 모집단을 플레이어의 전체 게임 중 인베이드 데이터로 잡고 아래 표본평균의 분포가 평균이 모평균인 정규분포를 따른다고 가정\n",
    "\n",
    "모평균이 주어졌을 때, 이로부터 가설검정, 신뢰구간 등을 계산할 수 있다.\n",
    "\n",
    "일반적으로 모평균은 주어지지 않으므로 경험적인 확률로 대치하여 근사값을 구한다."
   ]
  },
  {
   "cell_type": "code",
   "execution_count": 51,
   "metadata": {},
   "outputs": [],
   "source": [
    "n = n_invade\n",
    "\n",
    "sum_invade_win = sum(invade.invade_win_team==info.team)\n",
    "sum_invade_score = 0\n",
    "sum_invade_time = 0\n",
    "\n",
    "for j in invade[invade.is_invade==True].index:\n",
    "    if info.team[j] == 100:\n",
    "        sum_invade_score += (invade.invade_kill_blue[j]-invade.invade_kill_red[j])\n",
    "    else:\n",
    "        sum_invade_score += (invade.invade_kill_red[j]-invade.invade_kill_blue[j])\n",
    "    sum_invade_time += (invade.invade_timestamp[j])\n",
    "\n",
    "sum_invade_time/60000, sum_invade_score, sum_invade_win\n",
    "mean_invade_win = sum_invade_win/n_invade\n",
    "mean_invade_score = sum_invade_score/n_invade\n",
    "mean_invade_time = sum_invade_time/n_invade\n",
    "mean_invade_position = invade_position/n_invade    # dataframe\n"
   ]
  },
  {
   "cell_type": "code",
   "execution_count": 52,
   "metadata": {},
   "outputs": [],
   "source": [
    "import matplotlib.pyplot as plt\n",
    "import seaborn as sns"
   ]
  },
  {
   "cell_type": "code",
   "execution_count": 53,
   "metadata": {},
   "outputs": [
    {
     "name": "stdout",
     "output_type": "stream",
     "text": [
      "0.5409836065573771 1.2471650273224042 0.37158469945355194\n"
     ]
    },
    {
     "data": {
      "image/png": "[encoded data removed]",
      "text/plain": [
       "<Figure size 432x288 with 2 Axes>"
      ]
     },
     "metadata": {
      "needs_background": "light"
     },
     "output_type": "display_data"
    }
   ],
   "source": [
    "# display(mean_invade_positions)\n",
    "sns.heatmap(mean_invade_position)\n",
    "mean_invade_time_by_min = mean_invade_time/60000\n",
    "print(\n",
    "    mean_invade_win,\n",
    "    mean_invade_time_by_min,\n",
    "    mean_invade_score\n",
    ")"
   ]
  },
  {
   "cell_type": "markdown",
   "metadata": {},
   "source": [
    "## 모집단을 수집한 인베이드 데이터로 잡았을 때 중심극한정리 보이기"
   ]
  },
  {
   "cell_type": "code",
   "execution_count": 54,
   "metadata": {},
   "outputs": [],
   "source": [
    "n = 100\n",
    "n_specimen = 30\n",
    "mean_invade_wins = np.array([])\n",
    "mean_invade_scores = np.array([])\n",
    "mean_invade_times = np.array([])\n",
    "mean_invade_position = invade_position/n_invade    # dataframe\n",
    "for i in range(n):\n",
    "    r_index = np.random.choice(n_invade, size=n_specimen, replace=False)\n",
    "    r_invade = np.where(invade.is_invade==True)[0][r_index]\n",
    "    sum_invade_win = sum(invade.invade_win_team[r_invade]==info.team[r_invade])\n",
    "    sum_invade_scores = 0\n",
    "    sum_invade_times = 0\n",
    "    for j in r_index:\n",
    "        if info.team[j] == 100:\n",
    "            sum_invade_scores += (invade.invade_kill_blue[j]-invade.invade_kill_red[j])\n",
    "        else:\n",
    "            sum_invade_scores += (invade.invade_kill_red[j]-invade.invade_kill_blue[j])\n",
    "        sum_invade_times += (invade.invade_timestamp[j])\n",
    "    sum_invade_times/60000, sum_invade_scores, sum_invade_win\n",
    "    mean_invade_wins = np.append(mean_invade_wins, sum_invade_win/n_specimen)\n",
    "    mean_invade_scores = np.append(mean_invade_scores, sum_invade_scores/n_specimen)\n",
    "    mean_invade_times = np.append(mean_invade_times, sum_invade_times/n_specimen)\n"
   ]
  },
  {
   "cell_type": "code",
   "execution_count": 55,
   "metadata": {},
   "outputs": [
    {
     "data": {
      "text/plain": [
       "(array([ 1.,  4., 11.,  7., 12., 15., 16., 15.,  9., 10.]),\n",
       " array([0.36666667, 0.4       , 0.43333333, 0.46666667, 0.5       ,\n",
       "        0.53333333, 0.56666667, 0.6       , 0.63333333, 0.66666667,\n",
       "        0.7       ]),\n",
       " <BarContainer object of 10 artists>)"
      ]
     },
     "execution_count": 55,
     "metadata": {},
     "output_type": "execute_result"
    },
    {
     "data": {
      "image/png": "[encoded data removed]",
      "text/plain": [
       "<Figure size 432x288 with 1 Axes>"
      ]
     },
     "metadata": {
      "needs_background": "light"
     },
     "output_type": "display_data"
    }
   ],
   "source": [
    "plt.hist(mean_invade_wins)"
   ]
  },
  {
   "cell_type": "code",
   "execution_count": 56,
   "metadata": {},
   "outputs": [
    {
     "data": {
      "text/plain": [
       "183"
      ]
     },
     "execution_count": 56,
     "metadata": {},
     "output_type": "execute_result"
    }
   ],
   "source": [
    "n_invade"
   ]
  },
  {
   "cell_type": "markdown",
   "metadata": {},
   "source": [
    "# 값, 구간 추정 (유의수준 5%)"
   ]
  },
  {
   "cell_type": "code",
   "execution_count": 57,
   "metadata": {},
   "outputs": [],
   "source": [
    "from scipy.stats import norm\n",
    "from scipy.stats import t\n",
    "from math import sqrt"
   ]
  },
  {
   "cell_type": "code",
   "execution_count": 58,
   "metadata": {},
   "outputs": [
    {
     "name": "stdout",
     "output_type": "stream",
     "text": [
      "# 승리할 확률\n",
      "0.5384615384615384 0.24883449883449885 0.49883313726585854 1\n",
      "by norm-dist\n",
      "C.I :\t 0.503742571616086 0.5731805053069908\n",
      "# 인베가 발생할 확률\n",
      "0.23076923076923078 0.17773892773892774 0.4215909483598145 0\n",
      "by norm-dist\n",
      "C.I :\t 0.2014263482200184 0.26011211331844314\n",
      "# 인베를 가서 승리할 확률\n",
      "0.5409836065573771 0.24968474148802017 0.49968464203737556 1\n",
      "by norm-dist\n",
      "C.I :\t 0.4685869437194744 0.6133802693952798\n",
      "# 인베가 발생하는 시점\n",
      "74829.90163934426 716261568.8144479 26763.063516990125 65887\n",
      "by norm-dist\n",
      "C.I :\t 70952.34302948011 78707.46024920841\n",
      "# 인베에서 발생한 득실점\n",
      "0.37158469945355194 1.70732000240197 1.3066445585552215 1\n",
      "by norm-dist\n",
      "C.I :\t 0.18227188573768255 0.5608975131694214\n",
      "# 레드팀일 때 인베에서 발생한 득실점\n",
      "0.4375 1.6176801801801801 1.2718805683633114 1\n",
      "by norm-dist\n",
      "C.I :\t 0.20194875070048046 0.6730512492995195\n",
      "# 블루팀일 때 인베에서 발생한 득실점\n",
      "0.2676056338028169 1.8559356136820928 1.3623272784768323 1\n",
      "by norm-dist\n",
      "C.I :\t -0.049278408476023716 0.5844896760816575\n"
     ]
    }
   ],
   "source": [
    "print(\"# 승리할 확률\")\n",
    "win_occured = (info.team == teams.win).astype(int)\n",
    "mean_win = win_occured.mean()\n",
    "var_win = win_occured.var()\n",
    "std_win = win_occured.std()\n",
    "median_win = sorted(win_occured)[len(win_occured)//2]\n",
    "print(\n",
    "    mean_win,\n",
    "    var_win,\n",
    "    std_win,\n",
    "    median_win, sep='\\n'\n",
    ")\n",
    "n = n_match\n",
    "s = std_win\n",
    "xbar = mean_win\n",
    "alpha = 0.05\n",
    "se = s / sqrt(n)\n",
    "if n>=30:\n",
    "    print(\"by norm-dist\")\n",
    "    me = norm.ppf(1-alpha/2) * se\n",
    "else:\n",
    "    print(\"by t-dist\")\n",
    "    me = t.ppf(1-alpha/2, n-1) * se\n",
    "print(\"C.I :\\t\", xbar-me, xbar+me,sep='\\n')\n",
    "\n",
    "\n",
    "print(\"# 인베가 발생할 확률\")\n",
    "invade_occured = invade.is_invade.astype(int)\n",
    "mean_invade = invade_occured.mean()\n",
    "var_invade = invade_occured.var()\n",
    "std_invade = invade_occured.std()\n",
    "median_invade = sorted(invade_occured)[len(invade_occured)//2]\n",
    "print(\n",
    "    mean_invade,\n",
    "    var_invade,\n",
    "    std_invade,\n",
    "    median_invade, sep='\\n'\n",
    ")\n",
    "n = n_match\n",
    "s = std_invade\n",
    "xbar = mean_invade\n",
    "alpha = 0.05\n",
    "se = s / sqrt(n)\n",
    "if n>=30:\n",
    "    print(\"by norm-dist\")\n",
    "    me = norm.ppf(1-alpha/2) * se\n",
    "else:\n",
    "    print(\"by t-dist\")\n",
    "    me = t.ppf(1-alpha/2, n-1) * se\n",
    "print(\"C.I :\\t\", xbar-me, xbar+me,sep='\\n')\n",
    "\n",
    "\n",
    "print(\"# 인베를 가서 승리할 확률\")\n",
    "invade_win_occured = (info.team[invade.is_invade] == teams.win[invade.is_invade]).astype(int)\n",
    "mean_invade_win = invade_win_occured.mean()\n",
    "var_invade_win = invade_win_occured.var()\n",
    "std_invade_win = invade_win_occured.std()\n",
    "median_invade_win = sorted(invade_win_occured)[len(invade_win_occured)//2]\n",
    "print(\n",
    "    mean_invade_win,\n",
    "    var_invade_win,\n",
    "    std_invade_win,\n",
    "    median_invade_win, sep='\\n'\n",
    ")\n",
    "n = n_invade\n",
    "s = std_invade_win\n",
    "xbar = mean_invade_win\n",
    "alpha = 0.05\n",
    "se = s / sqrt(n)\n",
    "if n>=30:\n",
    "    print(\"by norm-dist\")\n",
    "    me = norm.ppf(1-alpha/2) * se\n",
    "else:\n",
    "    print(\"by t-dist\")\n",
    "    me = t.ppf(1-alpha/2, n-1) * se\n",
    "print(\"C.I :\\t\", xbar-me, xbar+me,sep='\\n')\n",
    "\n",
    "\n",
    "print(\"# 인베가 발생하는 시점\")\n",
    "invade_time = invade[invade.is_invade].invade_timestamp\n",
    "mean_invade_time = invade_time.mean()\n",
    "var_invade_time = invade_time.var()\n",
    "std_invade_time = invade_time.std()\n",
    "median_invade_time = sorted(invade_time)[len(invade_time)//2]\n",
    "print(\n",
    "    mean_invade_time,\n",
    "    var_invade_time,\n",
    "    std_invade_time,\n",
    "    median_invade_time, sep='\\n'\n",
    ")\n",
    "n = n_invade\n",
    "s = std_invade_time\n",
    "xbar = mean_invade_time\n",
    "alpha = 0.05\n",
    "se = s / sqrt(n)\n",
    "if n>=30:\n",
    "    print(\"by norm-dist\")\n",
    "    me = norm.ppf(1-alpha/2) * se\n",
    "else:\n",
    "    print(\"by t-dist\")\n",
    "    me = t.ppf(1-alpha/2, n-1) * se\n",
    "print(\"C.I :\\t\", xbar-me, xbar+me,sep='\\n')\n",
    "\n",
    "\n",
    "print(\"# 인베에서 발생한 득실점\")\n",
    "invade_score_blue = invade[invade.is_invade & (info.team==100)].invade_kill_blue-invade[invade.is_invade & (info.team==100)].invade_kill_red\n",
    "invade_score_red = invade[invade.is_invade & (info.team==200)].invade_kill_red-invade[invade.is_invade & (info.team==200)].invade_kill_blue\n",
    "invade_score = pd.concat([invade_score_blue, invade_score_red])\n",
    "mean_invade_score = invade_score.mean()\n",
    "var_invade_score = invade_score.var()\n",
    "std_invade_score = invade_score.std()\n",
    "median_invade_score = sorted(invade_score)[len(invade_score)//2]\n",
    "print(\n",
    "    mean_invade_score,\n",
    "    var_invade_score,\n",
    "    std_invade_score,\n",
    "    median_invade_score, sep='\\n'\n",
    ")\n",
    "n = n_invade\n",
    "s = std_invade_score\n",
    "xbar = mean_invade_score\n",
    "alpha = 0.05\n",
    "se = s / sqrt(n)\n",
    "if n>=30:\n",
    "    print(\"by norm-dist\")\n",
    "    me = norm.ppf(1-alpha/2) * se\n",
    "else:\n",
    "    print(\"by t-dist\")\n",
    "    me = t.ppf(1-alpha/2, n-1) * se\n",
    "print(\"C.I :\\t\", xbar-me, xbar+me,sep='\\n')\n",
    "\n",
    "\n",
    "print(\"# 레드팀일 때 인베에서 발생한 득실점\")\n",
    "mean_invade_score_red = invade_score_red.mean()\n",
    "var_invade_score_red = invade_score_red.var()\n",
    "std_invade_score_red = invade_score_red.std()\n",
    "median_invade_score_red = sorted(invade_score_red)[len(invade_score_red)//2]\n",
    "print(\n",
    "    mean_invade_score_red,\n",
    "    var_invade_score_red,\n",
    "    std_invade_score_red,\n",
    "    median_invade_score_red, sep='\\n'\n",
    ")\n",
    "n = len(invade[invade.is_invade & (info.team==200)])\n",
    "s = std_invade_score_red\n",
    "xbar = mean_invade_score_red\n",
    "alpha = 0.05\n",
    "se = s / sqrt(n)\n",
    "if n>=30:\n",
    "    print(\"by norm-dist\")\n",
    "    me = norm.ppf(1-alpha/2) * se\n",
    "else:\n",
    "    print(\"by t-dist\")\n",
    "    me = t.ppf(1-alpha/2, n-1) * se\n",
    "print(\"C.I :\\t\", xbar-me, xbar+me,sep='\\n')\n",
    "\n",
    "\n",
    "print(\"# 블루팀일 때 인베에서 발생한 득실점\")\n",
    "mean_invade_score_blue = invade_score_blue.mean()\n",
    "var_invade_score_blue = invade_score_blue.var()\n",
    "std_invade_score_blue = invade_score_blue.std()\n",
    "median_invade_score_blue = sorted(invade_score_blue)[len(invade_score_blue)//2]\n",
    "print(\n",
    "    mean_invade_score_blue,\n",
    "    var_invade_score_blue,\n",
    "    std_invade_score_blue,\n",
    "    median_invade_score_blue, sep='\\n'\n",
    ")\n",
    "n = len(invade[invade.is_invade & (info.team==100)])\n",
    "s = std_invade_score_blue\n",
    "xbar = mean_invade_score_blue\n",
    "alpha = 0.05\n",
    "se = s / sqrt(n)\n",
    "if n>=30:\n",
    "    print(\"by norm-dist\")\n",
    "    me = norm.ppf(1-alpha/2) * se\n",
    "else:\n",
    "    print(\"by t-dist\")\n",
    "    me = t.ppf(1-alpha/2, n-1) * se\n",
    "print(\"C.I :\\t\", xbar-me, xbar+me,sep='\\n')"
   ]
  },
  {
   "cell_type": "markdown",
   "metadata": {},
   "source": [
    "# 상관관계 분석"
   ]
  },
  {
   "cell_type": "code",
   "execution_count": 152,
   "metadata": {},
   "outputs": [
    {
     "data": {
      "text/plain": [
       "array([[0.3556116 , 0.41361917],\n",
       "       [0.10592686, 0.12484237]])"
      ]
     },
     "metadata": {},
     "output_type": "display_data"
    },
    {
     "data": {
      "text/plain": [
       "793"
      ]
     },
     "execution_count": 152,
     "metadata": {},
     "output_type": "execute_result"
    }
   ],
   "source": [
    "mask_is_invade = invade.is_invade\n",
    "mask_is_win = info.team==teams.win\n",
    "table_invade_win = np.array([\n",
    "    sum((mask_is_invade==False)&(mask_is_win==False)),\n",
    "    sum((mask_is_invade==False)&(mask_is_win==True)),\n",
    "    sum((mask_is_invade==True)&(mask_is_win==False)),\n",
    "    sum((mask_is_invade==True)&(mask_is_win==True))\n",
    "]).reshape(2,2)\n",
    "p_invade_win = table_invade_win/table_invade_win.sum()\n",
    "display(p_invade_win)\n",
    "table_invade_win.sum()\n",
    "# # df_invade_win = pd.DataFrame(p_invade_win)\n",
    "# # df_invade_win\n",
    "# x = mask_is_invade.astype(int)\n",
    "# y = mask_is_win.astype(int)\n",
    "# df = pd.concat([x,y], axis=1, keys=[\"x\", 'y'])\n",
    "# display(df)\n",
    "# display(df.cov())\n",
    "# df.corr()\n",
    "# np.corrcoef(x,y)"
   ]
  },
  {
   "cell_type": "code",
   "execution_count": 120,
   "metadata": {},
   "outputs": [
    {
     "data": {
      "text/plain": [
       "array([[0.        , 0.        ],\n",
       "       [0.00546448, 0.        ],\n",
       "       [0.01639344, 0.        ],\n",
       "       [0.02185792, 0.00546448],\n",
       "       [0.18579235, 0.09289617],\n",
       "       [0.03825137, 0.03825137],\n",
       "       [0.16393443, 0.28961749],\n",
       "       [0.02185792, 0.08196721],\n",
       "       [0.00546448, 0.03278689],\n",
       "       [0.        , 0.        ],\n",
       "       [0.        , 0.        ]])"
      ]
     },
     "metadata": {},
     "output_type": "display_data"
    },
    {
     "data": {
      "text/plain": [
       "183"
      ]
     },
     "execution_count": 120,
     "metadata": {},
     "output_type": "execute_result"
    }
   ],
   "source": [
    "table_score_win = np.array([\n",
    "    sum((invade_score==-5)&(mask_is_win==False)),\n",
    "    sum((invade_score==-5)&(mask_is_win==True)),\n",
    "    sum((invade_score==-4)&(mask_is_win==False)),\n",
    "    sum((invade_score==-4)&(mask_is_win==True)),\n",
    "    sum((invade_score==-3)&(mask_is_win==False)),\n",
    "    sum((invade_score==-3)&(mask_is_win==True)),\n",
    "    sum((invade_score==-2)&(mask_is_win==False)),\n",
    "    sum((invade_score==-2)&(mask_is_win==True)),\n",
    "    sum((invade_score==-1)&(mask_is_win==False)),\n",
    "    sum((invade_score==-1)&(mask_is_win==True)),\n",
    "    sum((invade_score==0)&(mask_is_win==False)),\n",
    "    sum((invade_score==0)&(mask_is_win==True)),\n",
    "    sum((invade_score==1)&(mask_is_win==False)),\n",
    "    sum((invade_score==1)&(mask_is_win==True)),\n",
    "    sum((invade_score==2)&(mask_is_win==False)),\n",
    "    sum((invade_score==2)&(mask_is_win==True)),\n",
    "    sum((invade_score==3)&(mask_is_win==False)),\n",
    "    sum((invade_score==3)&(mask_is_win==True)),\n",
    "    sum((invade_score==4)&(mask_is_win==False)),\n",
    "    sum((invade_score==4)&(mask_is_win==True)),\n",
    "    sum((invade_score==5)&(mask_is_win==False)),\n",
    "    sum((invade_score==5)&(mask_is_win==True)),\n",
    "]).reshape(-1,2)\n",
    "p_score_win = table_score_win/table_score_win.sum()\n",
    "display(p_score_win)\n",
    "table_score_win.sum()"
   ]
  },
  {
   "cell_type": "code",
   "execution_count": 128,
   "metadata": {},
   "outputs": [
    {
     "data": {
      "text/plain": [
       "array([[0.        ],\n",
       "       [0.        ],\n",
       "       [0.13114754],\n",
       "       [0.30054645],\n",
       "       [0.16939891],\n",
       "       [0.07103825],\n",
       "       [0.10382514],\n",
       "       [0.22404372]])"
      ]
     },
     "metadata": {},
     "output_type": "display_data"
    },
    {
     "data": {
      "text/plain": [
       "183"
      ]
     },
     "execution_count": 128,
     "metadata": {},
     "output_type": "execute_result"
    }
   ],
   "source": [
    "invade_time_by_sec = invade_time//1000\n",
    "table_time_invade = np.array([\n",
    "    sum((invade_time_by_sec>=0)&(invade_time_by_sec<=15)),\n",
    "    sum((invade_time_by_sec>=16)&(invade_time_by_sec<=30)),\n",
    "    sum((invade_time_by_sec>=31)&(invade_time_by_sec<=45)),\n",
    "    sum((invade_time_by_sec>=46)&(invade_time_by_sec<=60)),\n",
    "    sum((invade_time_by_sec>=61)&(invade_time_by_sec<=75)),\n",
    "    sum((invade_time_by_sec>=76)&(invade_time_by_sec<=90)),\n",
    "    sum((invade_time_by_sec>=91)&(invade_time_by_sec<=105)),\n",
    "    sum((invade_time_by_sec>=106)&(invade_time_by_sec<=120)),\n",
    "]).reshape(-1,1)\n",
    "p_time_invade = table_time_invade/table_time_invade.sum()\n",
    "display(p_time_invade)\n",
    "table_time_invade.sum()"
   ]
  },
  {
   "cell_type": "markdown",
   "metadata": {},
   "source": [
    "# 가설검정"
   ]
  },
  {
   "cell_type": "code",
   "execution_count": 160,
   "metadata": {},
   "outputs": [
    {
     "data": {
      "text/plain": [
       "(-1.6448536269514722, -0.07805411819849263, 0.46889250208199845)"
      ]
     },
     "execution_count": 160,
     "metadata": {},
     "output_type": "execute_result"
    }
   ],
   "source": [
    "invade_occured = invade.is_invade.astype(int)\n",
    "invade_win_occured = (info.team[invade.is_invade] == teams.win[invade.is_invade]).astype(int)\n",
    "invade_win_not_occured = (info.team[invade.is_invade==False] == teams.win[invade.is_invade==False]).astype(int)\n",
    "\n",
    "# H_0: 인베를 갈 떄와 가지 않을 때의 승률은 동일하다. p1=p2 <=> p1-p2 = mu0 = 0\n",
    "# H_1: 인베를 갈 때의 승률이 가지 않을 때의 승률보다 높다. p1<p2 <=> p1-p2 < 0\n",
    "n1 = n_match-n_invade\n",
    "n2 = n_invade\n",
    "p1_hat = sum(invade_win_not_occured)/n1\n",
    "p2_hat = sum(invade_win_occured)/n2\n",
    "\n",
    "mu0 = 0\n",
    "\n",
    "dbar = p1_hat - p2_hat\n",
    "alpha = 0.05\n",
    "se = sqrt((p1_hat*(1-p1_hat))/n1 + (p2_hat*(1-p2_hat))/n2)\n",
    "\n",
    "z = (dbar-mu0)/se\n",
    "z_cv = -norm.ppf(1-alpha)\n",
    "pval = norm.cdf(z)\n",
    "z_cv, z, pval"
   ]
  },
  {
   "cell_type": "markdown",
   "metadata": {},
   "source": [
    "## 귀무가설이 '두 모비율이 같다' 일 경우 p1=p2=p, 즉 p_hat을 활용할 수 있다.\n",
    "\n",
    "더 많은 표본을 사용하므로 이 방법이 더 좋은 결과를 낸다."
   ]
  },
  {
   "cell_type": "code",
   "execution_count": 164,
   "metadata": {},
   "outputs": [
    {
     "data": {
      "text/plain": [
       "(-1.6448536269514722, -0.07803199968115092, 0.46890129926233387)"
      ]
     },
     "execution_count": 164,
     "metadata": {},
     "output_type": "execute_result"
    }
   ],
   "source": [
    "# H_0: 인베를 갈 떄와 가지 않을 때의 승률은 동일하다. p1=p2 <=> p1-p2 = mu0 = 0\n",
    "# H_1: 인베를 갈 때의 승률이 가지 않을 때의 승률보다 높다. p1<p2 <=> p1-p2 < 0\n",
    "n1 = n_match-n_invade\n",
    "n2 = n_invade\n",
    "p1_hat = sum(invade_win_not_occured)/n1\n",
    "p2_hat = sum(invade_win_occured)/n2\n",
    "\n",
    "p_hat = (sum(invade_win_not_occured) + sum(invade_win_occured)) / (n1+n2)\n",
    "\n",
    "mu0 = 0\n",
    "\n",
    "dbar = p1_hat - p2_hat\n",
    "alpha = 0.05\n",
    "se = sqrt(p_hat*(1-p_hat)*(1/n1+1/n2))\n",
    "\n",
    "z = (dbar-mu0)/se\n",
    "z_cv = -norm.ppf(1-alpha)\n",
    "pval = norm.cdf(z)\n",
    "z_cv, z, pval"
   ]
  },
  {
   "cell_type": "markdown",
   "metadata": {},
   "source": [
    "# 모비율의 추정\n",
    "- 이전에 다룬 것\n",
    "    - 표본평균의 정규근사 by 중심극한정리\n",
    "        - 모평균의 추정\n",
    "- 이번에 다룰 것\n",
    "    - 표본이 이항분포를 따를 때, 그 수가 충분히 크면 정규분포에 근사\n",
    "        - 모비율의 추정"
   ]
  },
  {
   "cell_type": "code",
   "execution_count": 140,
   "metadata": {},
   "outputs": [
    {
     "name": "stdout",
     "output_type": "stream",
     "text": [
      "# 승리할 확률\n",
      "0.5384615384615384\n",
      "0.24883449883449885\n",
      "0.49883313726585854\n",
      "1\n",
      "by norm-dist\n",
      "C.I :\t\n",
      "0.503742571616086\n",
      "0.5731805053069908\n"
     ]
    }
   ],
   "source": [
    "print(\"# 승리할 확률\")\n",
    "win_occured = (info.team == teams.win).astype(int)\n",
    "mean_win = win_occured.mean()\n",
    "var_win = win_occured.var()\n",
    "std_win = win_occured.std()\n",
    "median_win = sorted(win_occured)[len(win_occured)//2]\n",
    "print(\n",
    "    mean_win,\n",
    "    var_win,\n",
    "    std_win,\n",
    "    median_win, sep='\\n'\n",
    ")\n",
    "n = n_match\n",
    "s = std_win\n",
    "xbar = mean_win\n",
    "alpha = 0.05\n",
    "se = s / sqrt(n)\n",
    "if n>=30:\n",
    "    print(\"by norm-dist\")\n",
    "    me = norm.ppf(1-alpha/2) * se\n",
    "else:\n",
    "    print(\"by t-dist\")\n",
    "    me = t.ppf(1-alpha/2, n-1) * se\n",
    "print(\"C.I :\\t\", xbar-me, xbar+me,sep='\\n')"
   ]
  },
  {
   "cell_type": "code",
   "execution_count": 142,
   "metadata": {},
   "outputs": [
    {
     "name": "stdout",
     "output_type": "stream",
     "text": [
      "# 승리할 확률\n",
      "by norm-dist\n",
      "C.I :\t\n",
      "0.5037644694213836\n",
      "0.5731586075016932\n"
     ]
    }
   ],
   "source": [
    "# 이항분포의 정규근사 ~ 모비율의 추정, 앞의 부분도 이렇게 수정해주는게 좋음.\n",
    "print(\"# 승리할 확률\")\n",
    "win_occured = (info.team == teams.win).astype(int)\n",
    "n = n_match\n",
    "p_hat = win_occured.mean()\n",
    "se = sqrt(p_hat*(1-p_hat)/n)\n",
    "alpha = 0.05\n",
    "if n*p_hat>=5 and n*(1-p_hat)>=5:\n",
    "    print(\"by norm-dist\")\n",
    "    me = norm.ppf(1-alpha/2) * se\n",
    "else:\n",
    "    print(\"by t-dist\")\n",
    "    me = t.ppf(1-alpha/2, n-1) * se\n",
    "print(\"C.I :\\t\", p_hat-me, p_hat+me,sep='\\n')"
   ]
  },
  {
   "cell_type": "code",
   "execution_count": null,
   "metadata": {},
   "outputs": [],
   "source": []
  }
 ],
 "metadata": {
  "interpreter": {
   "hash": "31f2aee4e71d21fbe5cf8b01ff0e069b9275f58929596ceb00d14d90e3e16cd6"
  },
  "kernelspec": {
   "display_name": "Python 3.9.5 64-bit",
   "name": "python3"
  },
  "language_info": {
   "codemirror_mode": {
    "name": "ipython",
    "version": 3
   },
   "file_extension": ".py",
   "mimetype": "text/x-python",
   "name": "python",
   "nbconvert_exporter": "python",
   "pygments_lexer": "ipython3",
   "version": "3.9.5"
  },
  "orig_nbformat": 4
 },
 "nbformat": 4,
 "nbformat_minor": 2
}
