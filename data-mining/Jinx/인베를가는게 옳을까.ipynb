{
 "cells": [
  {
   "cell_type": "code",
   "execution_count": 129,
   "source": [
    "import pandas as pd\n",
    "import numpy as np"
   ],
   "outputs": [],
   "metadata": {}
  },
  {
   "cell_type": "code",
   "execution_count": 143,
   "source": [
    "summoner_name = \"쪼렙이다말로하자\""
   ],
   "outputs": [],
   "metadata": {}
  },
  {
   "cell_type": "code",
   "execution_count": 144,
   "source": [
    "invade = pd.read_csv(\"data/{}/invade.csv\".format(summoner_name))\n",
    "invade"
   ],
   "outputs": [
    {
     "output_type": "execute_result",
     "data": {
      "text/html": [
       "<div>\n",
       "<style scoped>\n",
       "    .dataframe tbody tr th:only-of-type {\n",
       "        vertical-align: middle;\n",
       "    }\n",
       "\n",
       "    .dataframe tbody tr th {\n",
       "        vertical-align: top;\n",
       "    }\n",
       "\n",
       "    .dataframe thead th {\n",
       "        text-align: right;\n",
       "    }\n",
       "</style>\n",
       "<table border=\"1\" class=\"dataframe\">\n",
       "  <thead>\n",
       "    <tr style=\"text-align: right;\">\n",
       "      <th></th>\n",
       "      <th>is_invade</th>\n",
       "      <th>invade_timestamp</th>\n",
       "      <th>invade_kill_blue</th>\n",
       "      <th>invade_kill_red</th>\n",
       "      <th>invade_win_team</th>\n",
       "      <th>total_gold_blue_3_min</th>\n",
       "      <th>total_gold_red_3_min</th>\n",
       "      <th>gold_gap</th>\n",
       "      <th>gameMode</th>\n",
       "    </tr>\n",
       "  </thead>\n",
       "  <tbody>\n",
       "    <tr>\n",
       "      <th>0</th>\n",
       "      <td>False</td>\n",
       "      <td>0</td>\n",
       "      <td>0</td>\n",
       "      <td>0</td>\n",
       "      <td>0</td>\n",
       "      <td>0</td>\n",
       "      <td>0</td>\n",
       "      <td>0</td>\n",
       "      <td>CLASSIC</td>\n",
       "    </tr>\n",
       "    <tr>\n",
       "      <th>1</th>\n",
       "      <td>False</td>\n",
       "      <td>0</td>\n",
       "      <td>0</td>\n",
       "      <td>0</td>\n",
       "      <td>0</td>\n",
       "      <td>0</td>\n",
       "      <td>0</td>\n",
       "      <td>0</td>\n",
       "      <td>CLASSIC</td>\n",
       "    </tr>\n",
       "    <tr>\n",
       "      <th>2</th>\n",
       "      <td>False</td>\n",
       "      <td>0</td>\n",
       "      <td>0</td>\n",
       "      <td>0</td>\n",
       "      <td>0</td>\n",
       "      <td>0</td>\n",
       "      <td>0</td>\n",
       "      <td>0</td>\n",
       "      <td>CLASSIC</td>\n",
       "    </tr>\n",
       "    <tr>\n",
       "      <th>3</th>\n",
       "      <td>True</td>\n",
       "      <td>112193</td>\n",
       "      <td>0</td>\n",
       "      <td>1</td>\n",
       "      <td>100</td>\n",
       "      <td>4419</td>\n",
       "      <td>5324</td>\n",
       "      <td>-905</td>\n",
       "      <td>CLASSIC</td>\n",
       "    </tr>\n",
       "    <tr>\n",
       "      <th>4</th>\n",
       "      <td>False</td>\n",
       "      <td>0</td>\n",
       "      <td>0</td>\n",
       "      <td>0</td>\n",
       "      <td>0</td>\n",
       "      <td>0</td>\n",
       "      <td>0</td>\n",
       "      <td>0</td>\n",
       "      <td>CLASSIC</td>\n",
       "    </tr>\n",
       "    <tr>\n",
       "      <th>...</th>\n",
       "      <td>...</td>\n",
       "      <td>...</td>\n",
       "      <td>...</td>\n",
       "      <td>...</td>\n",
       "      <td>...</td>\n",
       "      <td>...</td>\n",
       "      <td>...</td>\n",
       "      <td>...</td>\n",
       "      <td>...</td>\n",
       "    </tr>\n",
       "    <tr>\n",
       "      <th>195</th>\n",
       "      <td>False</td>\n",
       "      <td>0</td>\n",
       "      <td>0</td>\n",
       "      <td>0</td>\n",
       "      <td>0</td>\n",
       "      <td>0</td>\n",
       "      <td>0</td>\n",
       "      <td>0</td>\n",
       "      <td>CLASSIC</td>\n",
       "    </tr>\n",
       "    <tr>\n",
       "      <th>196</th>\n",
       "      <td>False</td>\n",
       "      <td>0</td>\n",
       "      <td>0</td>\n",
       "      <td>0</td>\n",
       "      <td>0</td>\n",
       "      <td>0</td>\n",
       "      <td>0</td>\n",
       "      <td>0</td>\n",
       "      <td>CLASSIC</td>\n",
       "    </tr>\n",
       "    <tr>\n",
       "      <th>197</th>\n",
       "      <td>False</td>\n",
       "      <td>0</td>\n",
       "      <td>0</td>\n",
       "      <td>0</td>\n",
       "      <td>0</td>\n",
       "      <td>0</td>\n",
       "      <td>0</td>\n",
       "      <td>0</td>\n",
       "      <td>CLASSIC</td>\n",
       "    </tr>\n",
       "    <tr>\n",
       "      <th>198</th>\n",
       "      <td>False</td>\n",
       "      <td>0</td>\n",
       "      <td>0</td>\n",
       "      <td>0</td>\n",
       "      <td>0</td>\n",
       "      <td>0</td>\n",
       "      <td>0</td>\n",
       "      <td>0</td>\n",
       "      <td>CLASSIC</td>\n",
       "    </tr>\n",
       "    <tr>\n",
       "      <th>199</th>\n",
       "      <td>False</td>\n",
       "      <td>0</td>\n",
       "      <td>0</td>\n",
       "      <td>0</td>\n",
       "      <td>0</td>\n",
       "      <td>0</td>\n",
       "      <td>0</td>\n",
       "      <td>0</td>\n",
       "      <td>CLASSIC</td>\n",
       "    </tr>\n",
       "  </tbody>\n",
       "</table>\n",
       "<p>200 rows × 9 columns</p>\n",
       "</div>"
      ],
      "text/plain": [
       "     is_invade  invade_timestamp  invade_kill_blue  invade_kill_red  \\\n",
       "0        False                 0                 0                0   \n",
       "1        False                 0                 0                0   \n",
       "2        False                 0                 0                0   \n",
       "3         True            112193                 0                1   \n",
       "4        False                 0                 0                0   \n",
       "..         ...               ...               ...              ...   \n",
       "195      False                 0                 0                0   \n",
       "196      False                 0                 0                0   \n",
       "197      False                 0                 0                0   \n",
       "198      False                 0                 0                0   \n",
       "199      False                 0                 0                0   \n",
       "\n",
       "     invade_win_team  total_gold_blue_3_min  total_gold_red_3_min  gold_gap  \\\n",
       "0                  0                      0                     0         0   \n",
       "1                  0                      0                     0         0   \n",
       "2                  0                      0                     0         0   \n",
       "3                100                   4419                  5324      -905   \n",
       "4                  0                      0                     0         0   \n",
       "..               ...                    ...                   ...       ...   \n",
       "195                0                      0                     0         0   \n",
       "196                0                      0                     0         0   \n",
       "197                0                      0                     0         0   \n",
       "198                0                      0                     0         0   \n",
       "199                0                      0                     0         0   \n",
       "\n",
       "    gameMode  \n",
       "0    CLASSIC  \n",
       "1    CLASSIC  \n",
       "2    CLASSIC  \n",
       "3    CLASSIC  \n",
       "4    CLASSIC  \n",
       "..       ...  \n",
       "195  CLASSIC  \n",
       "196  CLASSIC  \n",
       "197  CLASSIC  \n",
       "198  CLASSIC  \n",
       "199  CLASSIC  \n",
       "\n",
       "[200 rows x 9 columns]"
      ]
     },
     "metadata": {},
     "execution_count": 144
    }
   ],
   "metadata": {}
  },
  {
   "cell_type": "code",
   "execution_count": 145,
   "source": [
    "invade_position = pd.read_csv(\"data/{}/invade_position.csv\".format(summoner_name))\n",
    "invade_position"
   ],
   "outputs": [
    {
     "output_type": "execute_result",
     "data": {
      "text/html": [
       "<div>\n",
       "<style scoped>\n",
       "    .dataframe tbody tr th:only-of-type {\n",
       "        vertical-align: middle;\n",
       "    }\n",
       "\n",
       "    .dataframe tbody tr th {\n",
       "        vertical-align: top;\n",
       "    }\n",
       "\n",
       "    .dataframe thead th {\n",
       "        text-align: right;\n",
       "    }\n",
       "</style>\n",
       "<table border=\"1\" class=\"dataframe\">\n",
       "  <thead>\n",
       "    <tr style=\"text-align: right;\">\n",
       "      <th></th>\n",
       "      <th>0</th>\n",
       "      <th>1</th>\n",
       "      <th>2</th>\n",
       "      <th>3</th>\n",
       "      <th>4</th>\n",
       "      <th>5</th>\n",
       "      <th>6</th>\n",
       "      <th>7</th>\n",
       "    </tr>\n",
       "  </thead>\n",
       "  <tbody>\n",
       "    <tr>\n",
       "      <th>0</th>\n",
       "      <td>0</td>\n",
       "      <td>0</td>\n",
       "      <td>0</td>\n",
       "      <td>0</td>\n",
       "      <td>0</td>\n",
       "      <td>0</td>\n",
       "      <td>0</td>\n",
       "      <td>0</td>\n",
       "    </tr>\n",
       "    <tr>\n",
       "      <th>1</th>\n",
       "      <td>2</td>\n",
       "      <td>1</td>\n",
       "      <td>2</td>\n",
       "      <td>0</td>\n",
       "      <td>0</td>\n",
       "      <td>0</td>\n",
       "      <td>0</td>\n",
       "      <td>0</td>\n",
       "    </tr>\n",
       "    <tr>\n",
       "      <th>2</th>\n",
       "      <td>1</td>\n",
       "      <td>3</td>\n",
       "      <td>0</td>\n",
       "      <td>1</td>\n",
       "      <td>0</td>\n",
       "      <td>0</td>\n",
       "      <td>0</td>\n",
       "      <td>0</td>\n",
       "    </tr>\n",
       "    <tr>\n",
       "      <th>3</th>\n",
       "      <td>0</td>\n",
       "      <td>2</td>\n",
       "      <td>4</td>\n",
       "      <td>1</td>\n",
       "      <td>4</td>\n",
       "      <td>1</td>\n",
       "      <td>0</td>\n",
       "      <td>0</td>\n",
       "    </tr>\n",
       "    <tr>\n",
       "      <th>4</th>\n",
       "      <td>0</td>\n",
       "      <td>0</td>\n",
       "      <td>2</td>\n",
       "      <td>5</td>\n",
       "      <td>1</td>\n",
       "      <td>2</td>\n",
       "      <td>1</td>\n",
       "      <td>0</td>\n",
       "    </tr>\n",
       "    <tr>\n",
       "      <th>5</th>\n",
       "      <td>0</td>\n",
       "      <td>0</td>\n",
       "      <td>2</td>\n",
       "      <td>2</td>\n",
       "      <td>2</td>\n",
       "      <td>6</td>\n",
       "      <td>0</td>\n",
       "      <td>0</td>\n",
       "    </tr>\n",
       "    <tr>\n",
       "      <th>6</th>\n",
       "      <td>0</td>\n",
       "      <td>0</td>\n",
       "      <td>0</td>\n",
       "      <td>4</td>\n",
       "      <td>3</td>\n",
       "      <td>2</td>\n",
       "      <td>5</td>\n",
       "      <td>0</td>\n",
       "    </tr>\n",
       "    <tr>\n",
       "      <th>7</th>\n",
       "      <td>0</td>\n",
       "      <td>0</td>\n",
       "      <td>0</td>\n",
       "      <td>3</td>\n",
       "      <td>2</td>\n",
       "      <td>2</td>\n",
       "      <td>1</td>\n",
       "      <td>0</td>\n",
       "    </tr>\n",
       "  </tbody>\n",
       "</table>\n",
       "</div>"
      ],
      "text/plain": [
       "   0  1  2  3  4  5  6  7\n",
       "0  0  0  0  0  0  0  0  0\n",
       "1  2  1  2  0  0  0  0  0\n",
       "2  1  3  0  1  0  0  0  0\n",
       "3  0  2  4  1  4  1  0  0\n",
       "4  0  0  2  5  1  2  1  0\n",
       "5  0  0  2  2  2  6  0  0\n",
       "6  0  0  0  4  3  2  5  0\n",
       "7  0  0  0  3  2  2  1  0"
      ]
     },
     "metadata": {},
     "execution_count": 145
    }
   ],
   "metadata": {}
  },
  {
   "cell_type": "code",
   "execution_count": 146,
   "source": [
    "participants = pd.read_json(\"data/{}/participants.json\".format(summoner_name))\n",
    "participants.head()"
   ],
   "outputs": [
    {
     "output_type": "execute_result",
     "data": {
      "text/html": [
       "<div>\n",
       "<style scoped>\n",
       "    .dataframe tbody tr th:only-of-type {\n",
       "        vertical-align: middle;\n",
       "    }\n",
       "\n",
       "    .dataframe tbody tr th {\n",
       "        vertical-align: top;\n",
       "    }\n",
       "\n",
       "    .dataframe thead th {\n",
       "        text-align: right;\n",
       "    }\n",
       "</style>\n",
       "<table border=\"1\" class=\"dataframe\">\n",
       "  <thead>\n",
       "    <tr style=\"text-align: right;\">\n",
       "      <th></th>\n",
       "      <th>0</th>\n",
       "      <th>1</th>\n",
       "      <th>2</th>\n",
       "      <th>3</th>\n",
       "      <th>4</th>\n",
       "      <th>5</th>\n",
       "      <th>6</th>\n",
       "      <th>7</th>\n",
       "      <th>8</th>\n",
       "      <th>9</th>\n",
       "    </tr>\n",
       "  </thead>\n",
       "  <tbody>\n",
       "    <tr>\n",
       "      <th>0</th>\n",
       "      <td>{'assists': 3, 'baronKills': 0, 'bountyLevel':...</td>\n",
       "      <td>{'assists': 8, 'baronKills': 1, 'bountyLevel':...</td>\n",
       "      <td>{'assists': 8, 'baronKills': 0, 'bountyLevel':...</td>\n",
       "      <td>{'assists': 9, 'baronKills': 0, 'bountyLevel':...</td>\n",
       "      <td>{'assists': 9, 'baronKills': 0, 'bountyLevel':...</td>\n",
       "      <td>{'assists': 2, 'baronKills': 0, 'bountyLevel':...</td>\n",
       "      <td>{'assists': 4, 'baronKills': 0, 'bountyLevel':...</td>\n",
       "      <td>{'assists': 3, 'baronKills': 0, 'bountyLevel':...</td>\n",
       "      <td>{'assists': 2, 'baronKills': 0, 'bountyLevel':...</td>\n",
       "      <td>{'assists': 4, 'baronKills': 0, 'bountyLevel':...</td>\n",
       "    </tr>\n",
       "    <tr>\n",
       "      <th>1</th>\n",
       "      <td>{'assists': 7, 'baronKills': 0, 'bountyLevel':...</td>\n",
       "      <td>{'assists': 5, 'baronKills': 1, 'bountyLevel':...</td>\n",
       "      <td>{'assists': 9, 'baronKills': 0, 'bountyLevel':...</td>\n",
       "      <td>{'assists': 7, 'baronKills': 0, 'bountyLevel':...</td>\n",
       "      <td>{'assists': 11, 'baronKills': 0, 'bountyLevel'...</td>\n",
       "      <td>{'assists': 0, 'baronKills': 0, 'bountyLevel':...</td>\n",
       "      <td>{'assists': 4, 'baronKills': 0, 'bountyLevel':...</td>\n",
       "      <td>{'assists': 6, 'baronKills': 0, 'bountyLevel':...</td>\n",
       "      <td>{'assists': 4, 'baronKills': 0, 'bountyLevel':...</td>\n",
       "      <td>{'assists': 6, 'baronKills': 0, 'bountyLevel':...</td>\n",
       "    </tr>\n",
       "    <tr>\n",
       "      <th>2</th>\n",
       "      <td>{'assists': 4, 'baronKills': 0, 'bountyLevel':...</td>\n",
       "      <td>{'assists': 6, 'baronKills': 0, 'bountyLevel':...</td>\n",
       "      <td>{'assists': 6, 'baronKills': 0, 'bountyLevel':...</td>\n",
       "      <td>{'assists': 3, 'baronKills': 0, 'bountyLevel':...</td>\n",
       "      <td>{'assists': 6, 'baronKills': 0, 'bountyLevel':...</td>\n",
       "      <td>{'assists': 5, 'baronKills': 0, 'bountyLevel':...</td>\n",
       "      <td>{'assists': 9, 'baronKills': 1, 'bountyLevel':...</td>\n",
       "      <td>{'assists': 13, 'baronKills': 0, 'bountyLevel'...</td>\n",
       "      <td>{'assists': 10, 'baronKills': 0, 'bountyLevel'...</td>\n",
       "      <td>{'assists': 14, 'baronKills': 0, 'bountyLevel'...</td>\n",
       "    </tr>\n",
       "    <tr>\n",
       "      <th>3</th>\n",
       "      <td>{'assists': 7, 'baronKills': 0, 'bountyLevel':...</td>\n",
       "      <td>{'assists': 15, 'baronKills': 1, 'bountyLevel'...</td>\n",
       "      <td>{'assists': 7, 'baronKills': 1, 'bountyLevel':...</td>\n",
       "      <td>{'assists': 7, 'baronKills': 0, 'bountyLevel':...</td>\n",
       "      <td>{'assists': 22, 'baronKills': 0, 'bountyLevel'...</td>\n",
       "      <td>{'assists': 3, 'baronKills': 0, 'bountyLevel':...</td>\n",
       "      <td>{'assists': 8, 'baronKills': 0, 'bountyLevel':...</td>\n",
       "      <td>{'assists': 9, 'baronKills': 0, 'bountyLevel':...</td>\n",
       "      <td>{'assists': 8, 'baronKills': 0, 'bountyLevel':...</td>\n",
       "      <td>{'assists': 17, 'baronKills': 0, 'bountyLevel'...</td>\n",
       "    </tr>\n",
       "    <tr>\n",
       "      <th>4</th>\n",
       "      <td>{'assists': 7, 'baronKills': 0, 'bountyLevel':...</td>\n",
       "      <td>{'assists': 22, 'baronKills': 1, 'bountyLevel'...</td>\n",
       "      <td>{'assists': 15, 'baronKills': 0, 'bountyLevel'...</td>\n",
       "      <td>{'assists': 20, 'baronKills': 0, 'bountyLevel'...</td>\n",
       "      <td>{'assists': 4, 'baronKills': 0, 'bountyLevel':...</td>\n",
       "      <td>{'assists': 5, 'baronKills': 0, 'bountyLevel':...</td>\n",
       "      <td>{'assists': 8, 'baronKills': 0, 'bountyLevel':...</td>\n",
       "      <td>{'assists': 3, 'baronKills': 0, 'bountyLevel':...</td>\n",
       "      <td>{'assists': 2, 'baronKills': 0, 'bountyLevel':...</td>\n",
       "      <td>{'assists': 3, 'baronKills': 0, 'bountyLevel':...</td>\n",
       "    </tr>\n",
       "  </tbody>\n",
       "</table>\n",
       "</div>"
      ],
      "text/plain": [
       "                                                   0  \\\n",
       "0  {'assists': 3, 'baronKills': 0, 'bountyLevel':...   \n",
       "1  {'assists': 7, 'baronKills': 0, 'bountyLevel':...   \n",
       "2  {'assists': 4, 'baronKills': 0, 'bountyLevel':...   \n",
       "3  {'assists': 7, 'baronKills': 0, 'bountyLevel':...   \n",
       "4  {'assists': 7, 'baronKills': 0, 'bountyLevel':...   \n",
       "\n",
       "                                                   1  \\\n",
       "0  {'assists': 8, 'baronKills': 1, 'bountyLevel':...   \n",
       "1  {'assists': 5, 'baronKills': 1, 'bountyLevel':...   \n",
       "2  {'assists': 6, 'baronKills': 0, 'bountyLevel':...   \n",
       "3  {'assists': 15, 'baronKills': 1, 'bountyLevel'...   \n",
       "4  {'assists': 22, 'baronKills': 1, 'bountyLevel'...   \n",
       "\n",
       "                                                   2  \\\n",
       "0  {'assists': 8, 'baronKills': 0, 'bountyLevel':...   \n",
       "1  {'assists': 9, 'baronKills': 0, 'bountyLevel':...   \n",
       "2  {'assists': 6, 'baronKills': 0, 'bountyLevel':...   \n",
       "3  {'assists': 7, 'baronKills': 1, 'bountyLevel':...   \n",
       "4  {'assists': 15, 'baronKills': 0, 'bountyLevel'...   \n",
       "\n",
       "                                                   3  \\\n",
       "0  {'assists': 9, 'baronKills': 0, 'bountyLevel':...   \n",
       "1  {'assists': 7, 'baronKills': 0, 'bountyLevel':...   \n",
       "2  {'assists': 3, 'baronKills': 0, 'bountyLevel':...   \n",
       "3  {'assists': 7, 'baronKills': 0, 'bountyLevel':...   \n",
       "4  {'assists': 20, 'baronKills': 0, 'bountyLevel'...   \n",
       "\n",
       "                                                   4  \\\n",
       "0  {'assists': 9, 'baronKills': 0, 'bountyLevel':...   \n",
       "1  {'assists': 11, 'baronKills': 0, 'bountyLevel'...   \n",
       "2  {'assists': 6, 'baronKills': 0, 'bountyLevel':...   \n",
       "3  {'assists': 22, 'baronKills': 0, 'bountyLevel'...   \n",
       "4  {'assists': 4, 'baronKills': 0, 'bountyLevel':...   \n",
       "\n",
       "                                                   5  \\\n",
       "0  {'assists': 2, 'baronKills': 0, 'bountyLevel':...   \n",
       "1  {'assists': 0, 'baronKills': 0, 'bountyLevel':...   \n",
       "2  {'assists': 5, 'baronKills': 0, 'bountyLevel':...   \n",
       "3  {'assists': 3, 'baronKills': 0, 'bountyLevel':...   \n",
       "4  {'assists': 5, 'baronKills': 0, 'bountyLevel':...   \n",
       "\n",
       "                                                   6  \\\n",
       "0  {'assists': 4, 'baronKills': 0, 'bountyLevel':...   \n",
       "1  {'assists': 4, 'baronKills': 0, 'bountyLevel':...   \n",
       "2  {'assists': 9, 'baronKills': 1, 'bountyLevel':...   \n",
       "3  {'assists': 8, 'baronKills': 0, 'bountyLevel':...   \n",
       "4  {'assists': 8, 'baronKills': 0, 'bountyLevel':...   \n",
       "\n",
       "                                                   7  \\\n",
       "0  {'assists': 3, 'baronKills': 0, 'bountyLevel':...   \n",
       "1  {'assists': 6, 'baronKills': 0, 'bountyLevel':...   \n",
       "2  {'assists': 13, 'baronKills': 0, 'bountyLevel'...   \n",
       "3  {'assists': 9, 'baronKills': 0, 'bountyLevel':...   \n",
       "4  {'assists': 3, 'baronKills': 0, 'bountyLevel':...   \n",
       "\n",
       "                                                   8  \\\n",
       "0  {'assists': 2, 'baronKills': 0, 'bountyLevel':...   \n",
       "1  {'assists': 4, 'baronKills': 0, 'bountyLevel':...   \n",
       "2  {'assists': 10, 'baronKills': 0, 'bountyLevel'...   \n",
       "3  {'assists': 8, 'baronKills': 0, 'bountyLevel':...   \n",
       "4  {'assists': 2, 'baronKills': 0, 'bountyLevel':...   \n",
       "\n",
       "                                                   9  \n",
       "0  {'assists': 4, 'baronKills': 0, 'bountyLevel':...  \n",
       "1  {'assists': 6, 'baronKills': 0, 'bountyLevel':...  \n",
       "2  {'assists': 14, 'baronKills': 0, 'bountyLevel'...  \n",
       "3  {'assists': 17, 'baronKills': 0, 'bountyLevel'...  \n",
       "4  {'assists': 3, 'baronKills': 0, 'bountyLevel':...  "
      ]
     },
     "metadata": {},
     "execution_count": 146
    }
   ],
   "metadata": {}
  },
  {
   "cell_type": "code",
   "execution_count": 147,
   "source": [
    "teams = pd.read_json(\"data/{}/teams.json\".format(summoner_name))\n",
    "teams.head()"
   ],
   "outputs": [
    {
     "output_type": "execute_result",
     "data": {
      "text/html": [
       "<div>\n",
       "<style scoped>\n",
       "    .dataframe tbody tr th:only-of-type {\n",
       "        vertical-align: middle;\n",
       "    }\n",
       "\n",
       "    .dataframe tbody tr th {\n",
       "        vertical-align: top;\n",
       "    }\n",
       "\n",
       "    .dataframe thead th {\n",
       "        text-align: right;\n",
       "    }\n",
       "</style>\n",
       "<table border=\"1\" class=\"dataframe\">\n",
       "  <thead>\n",
       "    <tr style=\"text-align: right;\">\n",
       "      <th></th>\n",
       "      <th>100</th>\n",
       "      <th>200</th>\n",
       "      <th>win</th>\n",
       "    </tr>\n",
       "  </thead>\n",
       "  <tbody>\n",
       "    <tr>\n",
       "      <th>0</th>\n",
       "      <td>{'bans': [{'championId': -1, 'pickTurn': 1}, {...</td>\n",
       "      <td>{'bans': [{'championId': -1, 'pickTurn': 6}, {...</td>\n",
       "      <td>100</td>\n",
       "    </tr>\n",
       "    <tr>\n",
       "      <th>1</th>\n",
       "      <td>{'bans': [{'championId': 238, 'pickTurn': 1}, ...</td>\n",
       "      <td>{'bans': [{'championId': 126, 'pickTurn': 6}, ...</td>\n",
       "      <td>100</td>\n",
       "    </tr>\n",
       "    <tr>\n",
       "      <th>2</th>\n",
       "      <td>{'bans': [{'championId': 23, 'pickTurn': 1}, {...</td>\n",
       "      <td>{'bans': [{'championId': 39, 'pickTurn': 6}, {...</td>\n",
       "      <td>200</td>\n",
       "    </tr>\n",
       "    <tr>\n",
       "      <th>3</th>\n",
       "      <td>{'bans': [{'championId': 412, 'pickTurn': 1}, ...</td>\n",
       "      <td>{'bans': [{'championId': 412, 'pickTurn': 6}, ...</td>\n",
       "      <td>100</td>\n",
       "    </tr>\n",
       "    <tr>\n",
       "      <th>4</th>\n",
       "      <td>{'bans': [{'championId': 711, 'pickTurn': 1}, ...</td>\n",
       "      <td>{'bans': [{'championId': 64, 'pickTurn': 6}, {...</td>\n",
       "      <td>100</td>\n",
       "    </tr>\n",
       "  </tbody>\n",
       "</table>\n",
       "</div>"
      ],
      "text/plain": [
       "                                                 100  \\\n",
       "0  {'bans': [{'championId': -1, 'pickTurn': 1}, {...   \n",
       "1  {'bans': [{'championId': 238, 'pickTurn': 1}, ...   \n",
       "2  {'bans': [{'championId': 23, 'pickTurn': 1}, {...   \n",
       "3  {'bans': [{'championId': 412, 'pickTurn': 1}, ...   \n",
       "4  {'bans': [{'championId': 711, 'pickTurn': 1}, ...   \n",
       "\n",
       "                                                 200  win  \n",
       "0  {'bans': [{'championId': -1, 'pickTurn': 6}, {...  100  \n",
       "1  {'bans': [{'championId': 126, 'pickTurn': 6}, ...  100  \n",
       "2  {'bans': [{'championId': 39, 'pickTurn': 6}, {...  200  \n",
       "3  {'bans': [{'championId': 412, 'pickTurn': 6}, ...  100  \n",
       "4  {'bans': [{'championId': 64, 'pickTurn': 6}, {...  100  "
      ]
     },
     "metadata": {},
     "execution_count": 147
    }
   ],
   "metadata": {}
  },
  {
   "cell_type": "code",
   "execution_count": 148,
   "source": [
    "info = pd.read_csv(\"data/{}/info.csv\".format(summoner_name))\n",
    "info.head()"
   ],
   "outputs": [
    {
     "output_type": "execute_result",
     "data": {
      "text/html": [
       "<div>\n",
       "<style scoped>\n",
       "    .dataframe tbody tr th:only-of-type {\n",
       "        vertical-align: middle;\n",
       "    }\n",
       "\n",
       "    .dataframe tbody tr th {\n",
       "        vertical-align: top;\n",
       "    }\n",
       "\n",
       "    .dataframe thead th {\n",
       "        text-align: right;\n",
       "    }\n",
       "</style>\n",
       "<table border=\"1\" class=\"dataframe\">\n",
       "  <thead>\n",
       "    <tr style=\"text-align: right;\">\n",
       "      <th></th>\n",
       "      <th>gameDuration</th>\n",
       "      <th>gameMode</th>\n",
       "      <th>gameType</th>\n",
       "      <th>gameVersion</th>\n",
       "      <th>mapId</th>\n",
       "      <th>index</th>\n",
       "      <th>team</th>\n",
       "    </tr>\n",
       "  </thead>\n",
       "  <tbody>\n",
       "    <tr>\n",
       "      <th>0</th>\n",
       "      <td>1371736</td>\n",
       "      <td>CLASSIC</td>\n",
       "      <td>MATCHED_GAME</td>\n",
       "      <td>11.19.398.9466</td>\n",
       "      <td>11</td>\n",
       "      <td>2</td>\n",
       "      <td>100</td>\n",
       "    </tr>\n",
       "    <tr>\n",
       "      <th>1</th>\n",
       "      <td>1542991</td>\n",
       "      <td>CLASSIC</td>\n",
       "      <td>MATCHED_GAME</td>\n",
       "      <td>11.19.398.9466</td>\n",
       "      <td>11</td>\n",
       "      <td>9</td>\n",
       "      <td>200</td>\n",
       "    </tr>\n",
       "    <tr>\n",
       "      <th>2</th>\n",
       "      <td>1468270</td>\n",
       "      <td>CLASSIC</td>\n",
       "      <td>MATCHED_GAME</td>\n",
       "      <td>11.19.398.9466</td>\n",
       "      <td>11</td>\n",
       "      <td>7</td>\n",
       "      <td>200</td>\n",
       "    </tr>\n",
       "    <tr>\n",
       "      <th>3</th>\n",
       "      <td>1963800</td>\n",
       "      <td>CLASSIC</td>\n",
       "      <td>MATCHED_GAME</td>\n",
       "      <td>11.19.398.9466</td>\n",
       "      <td>11</td>\n",
       "      <td>9</td>\n",
       "      <td>200</td>\n",
       "    </tr>\n",
       "    <tr>\n",
       "      <th>4</th>\n",
       "      <td>1634952</td>\n",
       "      <td>CLASSIC</td>\n",
       "      <td>MATCHED_GAME</td>\n",
       "      <td>11.19.398.9466</td>\n",
       "      <td>11</td>\n",
       "      <td>2</td>\n",
       "      <td>100</td>\n",
       "    </tr>\n",
       "  </tbody>\n",
       "</table>\n",
       "</div>"
      ],
      "text/plain": [
       "   gameDuration gameMode      gameType     gameVersion  mapId  index  team\n",
       "0       1371736  CLASSIC  MATCHED_GAME  11.19.398.9466     11      2   100\n",
       "1       1542991  CLASSIC  MATCHED_GAME  11.19.398.9466     11      9   200\n",
       "2       1468270  CLASSIC  MATCHED_GAME  11.19.398.9466     11      7   200\n",
       "3       1963800  CLASSIC  MATCHED_GAME  11.19.398.9466     11      9   200\n",
       "4       1634952  CLASSIC  MATCHED_GAME  11.19.398.9466     11      2   100"
      ]
     },
     "metadata": {},
     "execution_count": 148
    }
   ],
   "metadata": {}
  },
  {
   "cell_type": "code",
   "execution_count": 149,
   "source": [
    "# 표본의 인베 횟수\n",
    "n_invade = sum(invade.is_invade==True)\n",
    "n_invade, n_invade / len(info)"
   ],
   "outputs": [
    {
     "output_type": "execute_result",
     "data": {
      "text/plain": [
       "(46, 0.23)"
      ]
     },
     "metadata": {},
     "execution_count": 149
    }
   ],
   "metadata": {}
  },
  {
   "cell_type": "code",
   "execution_count": 150,
   "source": [
    "# 표본의 승률 P(Y=1)\n",
    "n_win = sum(info.team == teams.win)\n",
    "n_win, n_win / len(info)"
   ],
   "outputs": [
    {
     "output_type": "execute_result",
     "data": {
      "text/plain": [
       "(114, 0.57)"
      ]
     },
     "metadata": {},
     "execution_count": 150
    }
   ],
   "metadata": {}
  },
  {
   "cell_type": "code",
   "execution_count": 151,
   "source": [
    "# 인베를 갔을 때 승리할 확률 P(Y=1|X=1)\n",
    "n_match = len(info)\n",
    "n_win = 0\n",
    "for i in invade[invade.is_invade].index:\n",
    "    if invade.iloc[i][\"invade_win_team\"] == info.team[i]:\n",
    "        n_win += 1\n",
    "print(n_win, n_win / n_invade)\n",
    "\n",
    "# 인베를 가지 않았을 때 승리할 확률 P(Y=1|X=0)\n",
    "n_win = 0\n",
    "for i in invade[invade.is_invade == False].index:\n",
    "    if teams.win[i] == info.team[i]:    # invade를 가지 않았을 때 팀의 정보를 모름 in invade dataframe\n",
    "        n_win += 1\n",
    "print(n_win, n_win / (n_match - n_invade))\n",
    "\n",
    "# 인베를 갔을 때 본인의 팀이 이득을 볼 확률 P(Z=1|X=1)\n",
    "mask_blue_benefit = invade.invade_kill_blue > invade.invade_kill_red\n",
    "mask_red_benefit = invade.invade_kill_blue < invade.invade_kill_red\n",
    "invade_benefit = invade[(mask_blue_benefit & (info.team==100)) | (mask_red_benefit & (info.team==200))]\n",
    "n_benefit = len(invade_benefit)\n",
    "print(n_benefit, n_benefit / n_invade)\n",
    "\n",
    "# (인베를 갔을 때) 이득을 볼 경우 승리할 확률\n",
    "mask_blue_benefit = invade_benefit.invade_kill_blue > invade_benefit.invade_kill_red\n",
    "mask_red_benefit = invade_benefit.invade_kill_blue < invade_benefit.invade_kill_red\n",
    "invade_benefit_win = invade_benefit[(mask_blue_benefit & (invade_benefit.invade_win_team==100)) | (mask_red_benefit&(invade_benefit.invade_win_team==200))]\n",
    "n_benefit_win = len(invade_benefit_win)\n",
    "print(n_benefit_win, n_benefit_win/n_benefit)"
   ],
   "outputs": [
    {
     "output_type": "stream",
     "name": "stdout",
     "text": [
      "26 0.5652173913043478\n",
      "88 0.5714285714285714\n",
      "29 0.6304347826086957\n",
      "21 0.7241379310344828\n"
     ]
    }
   ],
   "metadata": {}
  },
  {
   "cell_type": "code",
   "execution_count": 174,
   "source": [
    "np.random.choice(n_invade, size=30, replace=False)"
   ],
   "outputs": [
    {
     "output_type": "execute_result",
     "data": {
      "text/plain": [
       "array([40, 19,  5,  6, 18, 27,  9, 13, 22, 35, 43, 24, 30, 23, 14,  3, 33,\n",
       "       38, 34, 42, 45, 12, 11, 39, 41,  2, 32, 21, 16, 36])"
      ]
     },
     "metadata": {},
     "execution_count": 174
    }
   ],
   "metadata": {}
  },
  {
   "cell_type": "code",
   "execution_count": 189,
   "source": [
    "invade[invade.is_invade==True].index"
   ],
   "outputs": [
    {
     "output_type": "execute_result",
     "data": {
      "text/plain": [
       "46"
      ]
     },
     "metadata": {},
     "execution_count": 189
    }
   ],
   "metadata": {}
  },
  {
   "cell_type": "markdown",
   "source": [
    "# 표본평균 구하기\n",
    "\n",
    "중심극한정리를 따라 크기가 큰 표본평균의 분포는 근사적으로 정규분포를 따른다.\n",
    "\n",
    "이 때 크기는 30 이상일 경우 일반적으로 성립한다."
   ],
   "metadata": {}
  },
  {
   "cell_type": "markdown",
   "source": [
    "## 모집단을 플레이어의 전체 게임 중 인베이드 데이터로 잡고 아래 표본평균의 분포가 평균이 모평균인 정규분포를 따른다고 가정\n",
    "\n",
    "모평균이 주어졌을 때, 이로부터 가설검정, 신뢰구간 등을 계산할 수 있다.\n",
    "\n",
    "일반적으로 모평균은 주어지지 않으므로 경험적인 확률로 대치하여 근사값을 구한다."
   ],
   "metadata": {}
  },
  {
   "cell_type": "code",
   "execution_count": 232,
   "source": [
    "n = n_invade\n",
    "\n",
    "sum_invade_win = sum(invade.invade_win_team==info.team)\n",
    "sum_invade_score = 0\n",
    "sum_invade_time = 0\n",
    "\n",
    "for j in invade[invade.is_invade==True].index:\n",
    "    if info.team[j] == 100:\n",
    "        sum_invade_score += (invade.invade_kill_blue[j]-invade.invade_kill_red[j])\n",
    "    else:\n",
    "        sum_invade_score += (invade.invade_kill_red[j]-invade.invade_kill_blue[j])\n",
    "    sum_invade_time += (invade.invade_timestamp[j])\n",
    "\n",
    "sum_invade_time/60000, sum_invade_score, sum_invade_win\n",
    "mean_invade_win = sum_invade_win/n_invade\n",
    "mean_invade_score = sum_invade_score/n_invade\n",
    "mean_invade_time = sum_invade_time/n_invade\n",
    "mean_invade_position = invade_position/n_invade    # dataframe\n"
   ],
   "outputs": [],
   "metadata": {}
  },
  {
   "cell_type": "code",
   "execution_count": 234,
   "source": [
    "# display(mean_invade_positions)\n",
    "sns.heatmap(mean_invade_positions)\n",
    "mean_invade_time_by_min = mean_invade_time/60000\n",
    "print(\n",
    "    mean_invade_win,\n",
    "    mean_invade_time_by_min,\n",
    "    mean_invade_score\n",
    ")"
   ],
   "outputs": [
    {
     "output_type": "stream",
     "name": "stdout",
     "text": [
      "0.5652173913043478 1.2756202898550726 0.41304347826086957\n"
     ]
    },
    {
     "output_type": "display_data",
     "data": {
      "image/png": "[encoded data removed]",
      "text/plain": [
       "<Figure size 432x288 with 2 Axes>"
      ]
     },
     "metadata": {
      "needs_background": "light"
     }
    }
   ],
   "metadata": {}
  },
  {
   "cell_type": "markdown",
   "source": [
    "## 모집단을 수집한 인베이드 데이터로 잡았을 때 중심극한정리 보이기"
   ],
   "metadata": {}
  },
  {
   "cell_type": "code",
   "execution_count": 227,
   "source": [
    "n = 100\n",
    "n_specimen = 30\n",
    "mean_invade_wins = np.array([])\n",
    "mean_invade_scores = np.array([])\n",
    "mean_invade_times = np.array([])\n",
    "mean_invade_position = invade_position/n_invade    # dataframe\n",
    "for i in range(n):\n",
    "    r_index = np.random.choice(n_invade, size=n_specimen, replace=False)\n",
    "    r_invade = np.where(invade.is_invade==True)[0][r_index]\n",
    "    sum_invade_win = sum(invade.invade_win_team[r_invade]==info.team[r_invade])\n",
    "    sum_invade_scores = 0\n",
    "    sum_invade_times = 0\n",
    "    for j in r_index:\n",
    "        if info.team[j] == 100:\n",
    "            sum_invade_scores += (invade.invade_kill_blue[j]-invade.invade_kill_red[j])\n",
    "        else:\n",
    "            sum_invade_scores += (invade.invade_kill_red[j]-invade.invade_kill_blue[j])\n",
    "        sum_invade_times += (invade.invade_timestamp[j])\n",
    "    sum_invade_times/60000, sum_invade_scores, sum_invade_win\n",
    "    mean_invade_wins = np.append(mean_invade_wins, sum_invade_win/n_specimen)\n",
    "    mean_invade_scores = np.append(mean_invade_scores, sum_invade_scores/n_specimen)\n",
    "    mean_invade_times = np.append(mean_invade_times, sum_invade_times/n_specimen)\n"
   ],
   "outputs": [],
   "metadata": {}
  },
  {
   "cell_type": "code",
   "execution_count": 228,
   "source": [
    "import matplotlib.pyplot as plt\n",
    "import seaborn as sns\n",
    "\n",
    "plt.hist(mean_invade_wins)"
   ],
   "outputs": [
    {
     "output_type": "execute_result",
     "data": {
      "text/plain": [
       "(array([ 2.,  9., 29., 23.,  0., 23.,  9.,  2.,  1.,  2.]),\n",
       " array([0.46666667, 0.49333333, 0.52      , 0.54666667, 0.57333333,\n",
       "        0.6       , 0.62666667, 0.65333333, 0.68      , 0.70666667,\n",
       "        0.73333333]),\n",
       " <BarContainer object of 10 artists>)"
      ]
     },
     "metadata": {},
     "execution_count": 228
    },
    {
     "output_type": "display_data",
     "data": {
      "image/png": "[encoded data removed]",
      "text/plain": [
       "<Figure size 432x288 with 1 Axes>"
      ]
     },
     "metadata": {
      "needs_background": "light"
     }
    }
   ],
   "metadata": {}
  },
  {
   "cell_type": "code",
   "execution_count": 229,
   "source": [
    "n_invade"
   ],
   "outputs": [
    {
     "output_type": "execute_result",
     "data": {
      "text/plain": [
       "46"
      ]
     },
     "metadata": {},
     "execution_count": 229
    }
   ],
   "metadata": {}
  },
  {
   "cell_type": "code",
   "execution_count": 231,
   "source": [
    "print(\n",
    "    mean_invade_wins.mean(),\n",
    "    mean_invade_times_by_min.mean(),\n",
    "    mean_invade_scores.mean()\n",
    ")\n",
    "print(sorted(mean_invade_wins)[n//2],\n",
    "    sorted(mean_invade_times_by_min)[n//2], \n",
    "    sorted(mean_invade_scores)[n//2] \n",
    ")\n",
    "print(\n",
    "    mean_invade_wins.var(),\n",
    "    mean_invade_times_by_min.var(),\n",
    "    mean_invade_scores.var()\n",
    ")\n",
    "print(\n",
    "    mean_invade_wins.std(),\n",
    "    mean_invade_times_by_min.std(),\n",
    "    mean_invade_scores.std()\n",
    ")"
   ],
   "outputs": [
    {
     "output_type": "stream",
     "name": "stdout",
     "text": [
      "0.5693333333333332 0.4287992166666667 -0.039999999999999994\n",
      "0.5666666666666667 0.4288366666666667 -0.03333333333333333\n",
      "0.002503999999999999 0.005530702009667253 0.008711111111111112\n",
      "0.050039984012787204 0.07436868971326073 0.09333333333333334\n"
     ]
    },
    {
     "output_type": "display_data",
     "data": {
      "image/png": "[encoded data removed]",
      "text/plain": [
       "<Figure size 432x288 with 2 Axes>"
      ]
     },
     "metadata": {
      "needs_background": "light"
     }
    }
   ],
   "metadata": {}
  },
  {
   "cell_type": "code",
   "execution_count": null,
   "source": [],
   "outputs": [],
   "metadata": {}
  },
  {
   "cell_type": "code",
   "execution_count": null,
   "source": [],
   "outputs": [],
   "metadata": {}
  }
 ],
 "metadata": {
  "orig_nbformat": 4,
  "language_info": {
   "name": "python",
   "version": "3.9.5",
   "mimetype": "text/x-python",
   "codemirror_mode": {
    "name": "ipython",
    "version": 3
   },
   "pygments_lexer": "ipython3",
   "nbconvert_exporter": "python",
   "file_extension": ".py"
  },
  "kernelspec": {
   "name": "python3",
   "display_name": "Python 3.9.5 64-bit"
  },
  "interpreter": {
   "hash": "31f2aee4e71d21fbe5cf8b01ff0e069b9275f58929596ceb00d14d90e3e16cd6"
  }
 },
 "nbformat": 4,
 "nbformat_minor": 2
}