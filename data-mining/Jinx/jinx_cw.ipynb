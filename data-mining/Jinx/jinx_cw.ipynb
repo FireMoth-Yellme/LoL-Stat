{
 "cells": [
  {
   "cell_type": "code",
   "execution_count": 1,
   "metadata": {},
   "outputs": [],
   "source": [
    "import numpy as np\n",
    "import pandas as pd\n",
    "import json\n",
    "import seaborn as sns\n",
    "import matplotlib.pyplot as plt"
   ]
  },
  {
   "cell_type": "code",
   "execution_count": 2,
   "metadata": {},
   "outputs": [
    {
     "ename": "ValueError",
     "evalue": "Expected object or value",
     "output_type": "error",
     "traceback": [
      "\u001B[1;31m---------------------------------------------------------------------------\u001B[0m",
      "\u001B[1;31mValueError\u001B[0m                                Traceback (most recent call last)",
      "\u001B[1;32m~\\AppData\\Local\\Temp/ipykernel_9656/2623676912.py\u001B[0m in \u001B[0;36m<module>\u001B[1;34m\u001B[0m\n\u001B[0;32m      1\u001B[0m \u001B[0msummoner_name\u001B[0m \u001B[1;33m=\u001B[0m \u001B[1;34m\"야식은치킨이지\"\u001B[0m\u001B[1;33m\u001B[0m\u001B[1;33m\u001B[0m\u001B[0m\n\u001B[1;32m----> 2\u001B[1;33m \u001B[0mmatch\u001B[0m \u001B[1;33m=\u001B[0m \u001B[0mpd\u001B[0m\u001B[1;33m.\u001B[0m\u001B[0mread_json\u001B[0m\u001B[1;33m(\u001B[0m\u001B[1;34m\"data/{name}/match.json\"\u001B[0m\u001B[1;33m.\u001B[0m\u001B[0mformat\u001B[0m\u001B[1;33m(\u001B[0m\u001B[0mname\u001B[0m\u001B[1;33m=\u001B[0m\u001B[0msummoner_name\u001B[0m\u001B[1;33m)\u001B[0m\u001B[1;33m)\u001B[0m\u001B[1;33m\u001B[0m\u001B[1;33m\u001B[0m\u001B[0m\n\u001B[0m\u001B[0;32m      3\u001B[0m \u001B[0mtimeline\u001B[0m \u001B[1;33m=\u001B[0m \u001B[0mpd\u001B[0m\u001B[1;33m.\u001B[0m\u001B[0mread_json\u001B[0m\u001B[1;33m(\u001B[0m\u001B[1;34m\"data/{name}/timeline.json\"\u001B[0m\u001B[1;33m.\u001B[0m\u001B[0mformat\u001B[0m\u001B[1;33m(\u001B[0m\u001B[0mname\u001B[0m\u001B[1;33m=\u001B[0m\u001B[0msummoner_name\u001B[0m\u001B[1;33m)\u001B[0m\u001B[1;33m)\u001B[0m\u001B[1;33m\u001B[0m\u001B[1;33m\u001B[0m\u001B[0m\n\u001B[0;32m      4\u001B[0m \u001B[1;33m\u001B[0m\u001B[0m\n",
      "\u001B[1;32m~\\AppData\\Local\\Programs\\Python\\Python39\\lib\\site-packages\\pandas\\util\\_decorators.py\u001B[0m in \u001B[0;36mwrapper\u001B[1;34m(*args, **kwargs)\u001B[0m\n\u001B[0;32m    205\u001B[0m                 \u001B[1;32melse\u001B[0m\u001B[1;33m:\u001B[0m\u001B[1;33m\u001B[0m\u001B[1;33m\u001B[0m\u001B[0m\n\u001B[0;32m    206\u001B[0m                     \u001B[0mkwargs\u001B[0m\u001B[1;33m[\u001B[0m\u001B[0mnew_arg_name\u001B[0m\u001B[1;33m]\u001B[0m \u001B[1;33m=\u001B[0m \u001B[0mnew_arg_value\u001B[0m\u001B[1;33m\u001B[0m\u001B[1;33m\u001B[0m\u001B[0m\n\u001B[1;32m--> 207\u001B[1;33m             \u001B[1;32mreturn\u001B[0m \u001B[0mfunc\u001B[0m\u001B[1;33m(\u001B[0m\u001B[1;33m*\u001B[0m\u001B[0margs\u001B[0m\u001B[1;33m,\u001B[0m \u001B[1;33m**\u001B[0m\u001B[0mkwargs\u001B[0m\u001B[1;33m)\u001B[0m\u001B[1;33m\u001B[0m\u001B[1;33m\u001B[0m\u001B[0m\n\u001B[0m\u001B[0;32m    208\u001B[0m \u001B[1;33m\u001B[0m\u001B[0m\n\u001B[0;32m    209\u001B[0m         \u001B[1;32mreturn\u001B[0m \u001B[0mcast\u001B[0m\u001B[1;33m(\u001B[0m\u001B[0mF\u001B[0m\u001B[1;33m,\u001B[0m \u001B[0mwrapper\u001B[0m\u001B[1;33m)\u001B[0m\u001B[1;33m\u001B[0m\u001B[1;33m\u001B[0m\u001B[0m\n",
      "\u001B[1;32m~\\AppData\\Local\\Programs\\Python\\Python39\\lib\\site-packages\\pandas\\util\\_decorators.py\u001B[0m in \u001B[0;36mwrapper\u001B[1;34m(*args, **kwargs)\u001B[0m\n\u001B[0;32m    309\u001B[0m                     \u001B[0mstacklevel\u001B[0m\u001B[1;33m=\u001B[0m\u001B[0mstacklevel\u001B[0m\u001B[1;33m,\u001B[0m\u001B[1;33m\u001B[0m\u001B[1;33m\u001B[0m\u001B[0m\n\u001B[0;32m    310\u001B[0m                 )\n\u001B[1;32m--> 311\u001B[1;33m             \u001B[1;32mreturn\u001B[0m \u001B[0mfunc\u001B[0m\u001B[1;33m(\u001B[0m\u001B[1;33m*\u001B[0m\u001B[0margs\u001B[0m\u001B[1;33m,\u001B[0m \u001B[1;33m**\u001B[0m\u001B[0mkwargs\u001B[0m\u001B[1;33m)\u001B[0m\u001B[1;33m\u001B[0m\u001B[1;33m\u001B[0m\u001B[0m\n\u001B[0m\u001B[0;32m    312\u001B[0m \u001B[1;33m\u001B[0m\u001B[0m\n\u001B[0;32m    313\u001B[0m         \u001B[1;32mreturn\u001B[0m \u001B[0mwrapper\u001B[0m\u001B[1;33m\u001B[0m\u001B[1;33m\u001B[0m\u001B[0m\n",
      "\u001B[1;32m~\\AppData\\Local\\Programs\\Python\\Python39\\lib\\site-packages\\pandas\\io\\json\\_json.py\u001B[0m in \u001B[0;36mread_json\u001B[1;34m(path_or_buf, orient, typ, dtype, convert_axes, convert_dates, keep_default_dates, numpy, precise_float, date_unit, encoding, encoding_errors, lines, chunksize, compression, nrows, storage_options)\u001B[0m\n\u001B[0;32m    612\u001B[0m \u001B[1;33m\u001B[0m\u001B[0m\n\u001B[0;32m    613\u001B[0m     \u001B[1;32mwith\u001B[0m \u001B[0mjson_reader\u001B[0m\u001B[1;33m:\u001B[0m\u001B[1;33m\u001B[0m\u001B[1;33m\u001B[0m\u001B[0m\n\u001B[1;32m--> 614\u001B[1;33m         \u001B[1;32mreturn\u001B[0m \u001B[0mjson_reader\u001B[0m\u001B[1;33m.\u001B[0m\u001B[0mread\u001B[0m\u001B[1;33m(\u001B[0m\u001B[1;33m)\u001B[0m\u001B[1;33m\u001B[0m\u001B[1;33m\u001B[0m\u001B[0m\n\u001B[0m\u001B[0;32m    615\u001B[0m \u001B[1;33m\u001B[0m\u001B[0m\n\u001B[0;32m    616\u001B[0m \u001B[1;33m\u001B[0m\u001B[0m\n",
      "\u001B[1;32m~\\AppData\\Local\\Programs\\Python\\Python39\\lib\\site-packages\\pandas\\io\\json\\_json.py\u001B[0m in \u001B[0;36mread\u001B[1;34m(self)\u001B[0m\n\u001B[0;32m    746\u001B[0m                 \u001B[0mobj\u001B[0m \u001B[1;33m=\u001B[0m \u001B[0mself\u001B[0m\u001B[1;33m.\u001B[0m\u001B[0m_get_object_parser\u001B[0m\u001B[1;33m(\u001B[0m\u001B[0mself\u001B[0m\u001B[1;33m.\u001B[0m\u001B[0m_combine_lines\u001B[0m\u001B[1;33m(\u001B[0m\u001B[0mdata_lines\u001B[0m\u001B[1;33m)\u001B[0m\u001B[1;33m)\u001B[0m\u001B[1;33m\u001B[0m\u001B[1;33m\u001B[0m\u001B[0m\n\u001B[0;32m    747\u001B[0m         \u001B[1;32melse\u001B[0m\u001B[1;33m:\u001B[0m\u001B[1;33m\u001B[0m\u001B[1;33m\u001B[0m\u001B[0m\n\u001B[1;32m--> 748\u001B[1;33m             \u001B[0mobj\u001B[0m \u001B[1;33m=\u001B[0m \u001B[0mself\u001B[0m\u001B[1;33m.\u001B[0m\u001B[0m_get_object_parser\u001B[0m\u001B[1;33m(\u001B[0m\u001B[0mself\u001B[0m\u001B[1;33m.\u001B[0m\u001B[0mdata\u001B[0m\u001B[1;33m)\u001B[0m\u001B[1;33m\u001B[0m\u001B[1;33m\u001B[0m\u001B[0m\n\u001B[0m\u001B[0;32m    749\u001B[0m         \u001B[0mself\u001B[0m\u001B[1;33m.\u001B[0m\u001B[0mclose\u001B[0m\u001B[1;33m(\u001B[0m\u001B[1;33m)\u001B[0m\u001B[1;33m\u001B[0m\u001B[1;33m\u001B[0m\u001B[0m\n\u001B[0;32m    750\u001B[0m         \u001B[1;32mreturn\u001B[0m \u001B[0mobj\u001B[0m\u001B[1;33m\u001B[0m\u001B[1;33m\u001B[0m\u001B[0m\n",
      "\u001B[1;32m~\\AppData\\Local\\Programs\\Python\\Python39\\lib\\site-packages\\pandas\\io\\json\\_json.py\u001B[0m in \u001B[0;36m_get_object_parser\u001B[1;34m(self, json)\u001B[0m\n\u001B[0;32m    768\u001B[0m         \u001B[0mobj\u001B[0m \u001B[1;33m=\u001B[0m \u001B[1;32mNone\u001B[0m\u001B[1;33m\u001B[0m\u001B[1;33m\u001B[0m\u001B[0m\n\u001B[0;32m    769\u001B[0m         \u001B[1;32mif\u001B[0m \u001B[0mtyp\u001B[0m \u001B[1;33m==\u001B[0m \u001B[1;34m\"frame\"\u001B[0m\u001B[1;33m:\u001B[0m\u001B[1;33m\u001B[0m\u001B[1;33m\u001B[0m\u001B[0m\n\u001B[1;32m--> 770\u001B[1;33m             \u001B[0mobj\u001B[0m \u001B[1;33m=\u001B[0m \u001B[0mFrameParser\u001B[0m\u001B[1;33m(\u001B[0m\u001B[0mjson\u001B[0m\u001B[1;33m,\u001B[0m \u001B[1;33m**\u001B[0m\u001B[0mkwargs\u001B[0m\u001B[1;33m)\u001B[0m\u001B[1;33m.\u001B[0m\u001B[0mparse\u001B[0m\u001B[1;33m(\u001B[0m\u001B[1;33m)\u001B[0m\u001B[1;33m\u001B[0m\u001B[1;33m\u001B[0m\u001B[0m\n\u001B[0m\u001B[0;32m    771\u001B[0m \u001B[1;33m\u001B[0m\u001B[0m\n\u001B[0;32m    772\u001B[0m         \u001B[1;32mif\u001B[0m \u001B[0mtyp\u001B[0m \u001B[1;33m==\u001B[0m \u001B[1;34m\"series\"\u001B[0m \u001B[1;32mor\u001B[0m \u001B[0mobj\u001B[0m \u001B[1;32mis\u001B[0m \u001B[1;32mNone\u001B[0m\u001B[1;33m:\u001B[0m\u001B[1;33m\u001B[0m\u001B[1;33m\u001B[0m\u001B[0m\n",
      "\u001B[1;32m~\\AppData\\Local\\Programs\\Python\\Python39\\lib\\site-packages\\pandas\\io\\json\\_json.py\u001B[0m in \u001B[0;36mparse\u001B[1;34m(self)\u001B[0m\n\u001B[0;32m    883\u001B[0m \u001B[1;33m\u001B[0m\u001B[0m\n\u001B[0;32m    884\u001B[0m         \u001B[1;32melse\u001B[0m\u001B[1;33m:\u001B[0m\u001B[1;33m\u001B[0m\u001B[1;33m\u001B[0m\u001B[0m\n\u001B[1;32m--> 885\u001B[1;33m             \u001B[0mself\u001B[0m\u001B[1;33m.\u001B[0m\u001B[0m_parse_no_numpy\u001B[0m\u001B[1;33m(\u001B[0m\u001B[1;33m)\u001B[0m\u001B[1;33m\u001B[0m\u001B[1;33m\u001B[0m\u001B[0m\n\u001B[0m\u001B[0;32m    886\u001B[0m \u001B[1;33m\u001B[0m\u001B[0m\n\u001B[0;32m    887\u001B[0m         \u001B[1;32mif\u001B[0m \u001B[0mself\u001B[0m\u001B[1;33m.\u001B[0m\u001B[0mobj\u001B[0m \u001B[1;32mis\u001B[0m \u001B[1;32mNone\u001B[0m\u001B[1;33m:\u001B[0m\u001B[1;33m\u001B[0m\u001B[1;33m\u001B[0m\u001B[0m\n",
      "\u001B[1;32m~\\AppData\\Local\\Programs\\Python\\Python39\\lib\\site-packages\\pandas\\io\\json\\_json.py\u001B[0m in \u001B[0;36m_parse_no_numpy\u001B[1;34m(self)\u001B[0m\n\u001B[0;32m   1138\u001B[0m         \u001B[1;32mif\u001B[0m \u001B[0morient\u001B[0m \u001B[1;33m==\u001B[0m \u001B[1;34m\"columns\"\u001B[0m\u001B[1;33m:\u001B[0m\u001B[1;33m\u001B[0m\u001B[1;33m\u001B[0m\u001B[0m\n\u001B[0;32m   1139\u001B[0m             self.obj = DataFrame(\n\u001B[1;32m-> 1140\u001B[1;33m                 \u001B[0mloads\u001B[0m\u001B[1;33m(\u001B[0m\u001B[0mjson\u001B[0m\u001B[1;33m,\u001B[0m \u001B[0mprecise_float\u001B[0m\u001B[1;33m=\u001B[0m\u001B[0mself\u001B[0m\u001B[1;33m.\u001B[0m\u001B[0mprecise_float\u001B[0m\u001B[1;33m)\u001B[0m\u001B[1;33m,\u001B[0m \u001B[0mdtype\u001B[0m\u001B[1;33m=\u001B[0m\u001B[1;32mNone\u001B[0m\u001B[1;33m\u001B[0m\u001B[1;33m\u001B[0m\u001B[0m\n\u001B[0m\u001B[0;32m   1141\u001B[0m             )\n\u001B[0;32m   1142\u001B[0m         \u001B[1;32melif\u001B[0m \u001B[0morient\u001B[0m \u001B[1;33m==\u001B[0m \u001B[1;34m\"split\"\u001B[0m\u001B[1;33m:\u001B[0m\u001B[1;33m\u001B[0m\u001B[1;33m\u001B[0m\u001B[0m\n",
      "\u001B[1;31mValueError\u001B[0m: Expected object or value"
     ]
    }
   ],
   "source": [
    "summoner_name = \"야식은치킨이지\"\n",
    "match = pd.read_json(\"data/{name}/match.json\".format(name=summoner_name))\n",
    "timeline = pd.read_json(\"data/{name}/timeline.json\".format(name=summoner_name))"
   ]
  },
  {
   "cell_type": "code",
   "execution_count": null,
   "metadata": {},
   "outputs": [],
   "source": [
    "# match 데이터를 저장할 때 index 부분을 조정해주어야 할 듯 \n",
    "for i in range(100):\n",
    "    match.iloc[i,0] = (match.iloc[i,0]-1)%10+1\n",
    "\n",
    "match.head()"
   ]
  },
  {
   "cell_type": "markdown",
   "metadata": {},
   "source": [
    "# 경기 수 관련"
   ]
  },
  {
   "cell_type": "code",
   "execution_count": null,
   "metadata": {},
   "outputs": [],
   "source": [
    "match_length = len(timeline)\n",
    "match_invade = 0"
   ]
  },
  {
   "cell_type": "markdown",
   "metadata": {},
   "source": [
    "# 이벤트 분석"
   ]
  },
  {
   "cell_type": "code",
   "execution_count": null,
   "metadata": {},
   "outputs": [],
   "source": [
    "match_index = 1\n",
    "match_time_length = len(timeline.iloc[match_index].info['frames'])\n",
    "team_id = match.teamId[match_index]\n",
    "win = match.win[match_index]\n",
    "\n",
    "events = [timeline.iloc[match_index].info[\"frames\"][t][\"events\"] for t in range(match_time_length)]\n",
    "participants_info = [timeline.iloc[match_index].info[\"frames\"][t][\"participantFrames\"] for t in range(match_time_length)]"
   ]
  },
  {
   "cell_type": "code",
   "execution_count": null,
   "metadata": {},
   "outputs": [],
   "source": [
    "is_invade = [False]*match_length\n",
    "invade_timestamp = [0]*match_length           \n",
    "invade_kill_blue = [0]*match_length           # invade시 발생한 블루팀의 킬 수\n",
    "invade_kill_red = [0]*match_length            # invade시 발생한 레드팀의 킬 수\n",
    "invade_win_team = [0]*match_length            # invade가 발생한 게임에서 이긴 팀의 teamId\n",
    "total_gold_blue_3_min = [0]*match_length\n",
    "total_gold_red_3_min = [0]*match_length\n",
    "gold_gap = [0]*match_length\n",
    "\n",
    "for match_index in range(match_length):\n",
    "    match_time_length = len(timeline.iloc[match_index].info['frames'])\n",
    "    team_id = match.teamId[match_index]\n",
    "    win = match.win[match_index]\n",
    "    \n",
    "    events = [timeline.iloc[match_index].info[\"frames\"][t][\"events\"] for t in range(match_time_length)]\n",
    "    participants_info = [timeline.iloc[match_index].info[\"frames\"][t][\"participantFrames\"] for t in range(match_time_length)]\n",
    "\n",
    "    # 1~2분대의 kill event\n",
    "    for t in range(1,3):  # 1 ~ 2 분 사이\n",
    "        for e in events[t]:    \n",
    "            if e[\"type\"] == \"CHAMPION_KILL\":\n",
    "                if is_invade[match_index] == False: \n",
    "                    is_invade[match_index] = True\n",
    "                    match_invade += 1\n",
    "                if invade_timestamp[match_index] == 0: invade_timestamp[match_index] = e['timestamp']\n",
    "                if e['killerId'] <= 5:\n",
    "                    invade_kill_blue[match_index] += 1\n",
    "                elif e['killerId'] > 5:\n",
    "                    invade_kill_red[match_index] += 1\n",
    "                # display(pd.json_normalize(e))\n",
    "\n",
    "    if is_invade[match_index]:\n",
    "        for i in range(1,6):\n",
    "            total_gold_blue_3_min[match_index] += participants_info[3][str(i)]['totalGold']\n",
    "        for i in range(6,11):\n",
    "            total_gold_red_3_min[match_index] += participants_info[3][str(i)]['totalGold']\n",
    "        gold_gap[match_index] = total_gold_blue_3_min[match_index] - total_gold_red_3_min[match_index]\n",
    "        if team_id == 100:\n",
    "            if win: invade_win_team[match_index] = 100\n",
    "            else: invade_win_team[match_index] = 200\n",
    "        else:\n",
    "            if win: invade_win_team[match_index] = 200\n",
    "            else: invade_win_team[match_index] = 100    \n",
    "        print(\"--------------------------------------------------\")\n",
    "        print(\"invade detected: %f\" % (invade_timestamp[match_index]/60000))\n",
    "        print(\"< kills >\\n  blue : %d , red : %d\"% (invade_kill_blue[match_index], invade_kill_red[match_index]))\n",
    "        print(\"< total_gold_3_min >\\n  blue: %d , red: %d\"% (total_gold_blue_3_min[match_index], total_gold_red_3_min[match_index]))\n",
    "        print(\"< gold_gap >\\n  %d\"% gold_gap[match_index])\n",
    "        print(\"< win >\\n  %s\"% \"blue\" if invade_win_team[match_index] == 100 else \"red\")"
   ]
  },
  {
   "cell_type": "code",
   "execution_count": null,
   "metadata": {},
   "outputs": [],
   "source": [
    "df_invade = pd.DataFrame([\n",
    "    is_invade,\n",
    "    invade_timestamp,\n",
    "    invade_kill_blue,\n",
    "    invade_kill_red,\n",
    "    invade_win_team,\n",
    "    total_gold_blue_3_min,\n",
    "    total_gold_red_3_min,\n",
    "    gold_gap]).transpose()\n",
    "\n",
    "df_invade.columns = [\n",
    "    \"is_invade\",\n",
    "    \"invade_timestamp\",\n",
    "    \"invade_kill_blue\",\n",
    "    \"invade_kill_red\",\n",
    "    \"invade_win_team\",\n",
    "    \"total_gold_blue_3_min\",\n",
    "    \"total_gold_red_3_min\",\n",
    "    \"gold_gap\"]\n",
    "\n",
    "display(df_invade[(df_invade.is_invade==True) & (df_invade.invade_kill_blue > df_invade.invade_kill_red)])\n",
    "\n",
    "# 인베가 일어났고, 블루가 레드보다 킬을 많이 딴 경기에서 블루가 이길 확률 \n",
    "print(\"%.2f%%\"%(\n",
    "    len(df_invade[\n",
    "        (df_invade.is_invade==True) \n",
    "        & (df_invade.invade_kill_blue > df_invade.invade_kill_red) \n",
    "        & (df_invade.invade_win_team == 100)]) \n",
    "    / len(df_invade[\n",
    "        (df_invade.is_invade==True) \n",
    "        & (df_invade.invade_kill_blue > df_invade.invade_kill_red)])\n",
    "    * 100)\n",
    ")\n"
   ]
  },
  {
   "cell_type": "code",
   "execution_count": null,
   "metadata": {},
   "outputs": [],
   "source": [
    "match_invade"
   ]
  },
  {
   "cell_type": "code",
   "execution_count": null,
   "metadata": {
    "pycharm": {
     "name": "#%%\n"
    }
   },
   "outputs": [],
   "source": []
  }
 ],
 "metadata": {
  "interpreter": {
   "hash": "31f2aee4e71d21fbe5cf8b01ff0e069b9275f58929596ceb00d14d90e3e16cd6"
  },
  "kernelspec": {
   "display_name": "Python 3 (ipykernel)",
   "language": "python",
   "name": "python3"
  },
  "language_info": {
   "codemirror_mode": {
    "name": "ipython",
    "version": 3
   },
   "file_extension": ".py",
   "mimetype": "text/x-python",
   "name": "python",
   "nbconvert_exporter": "python",
   "pygments_lexer": "ipython3",
   "version": "3.9.7"
  }
 },
 "nbformat": 4,
 "nbformat_minor": 2
}